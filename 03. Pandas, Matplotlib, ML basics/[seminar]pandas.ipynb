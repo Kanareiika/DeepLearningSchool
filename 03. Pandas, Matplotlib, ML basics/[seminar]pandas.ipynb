{
  "nbformat": 4,
  "nbformat_minor": 0,
  "metadata": {
    "colab": {
      "name": "Copy of [seminar]pandas.ipynb",
      "version": "0.3.2",
      "provenance": [],
      "include_colab_link": true
    },
    "language_info": {
      "codemirror_mode": {
        "name": "ipython",
        "version": 3
      },
      "file_extension": ".py",
      "mimetype": "text/x-python",
      "name": "python",
      "nbconvert_exporter": "python",
      "pygments_lexer": "ipython3",
      "version": "3.6.5"
    },
    "kernelspec": {
      "display_name": "Python 3",
      "language": "python",
      "name": "python3"
    }
  },
  "cells": [
    {
      "cell_type": "markdown",
      "metadata": {
        "id": "view-in-github",
        "colab_type": "text"
      },
      "source": [
        "<a href=\"https://colab.research.google.com/github/Kanareiika/DeepLearningSchool/blob/master/03.%20Pandas%2C%20Matplotlib%2C%20ML%20basics/%5Bseminar%5Dpandas.ipynb\" target=\"_parent\"><img src=\"https://colab.research.google.com/assets/colab-badge.svg\" alt=\"Open In Colab\"/></a>"
      ]
    },
    {
      "cell_type": "markdown",
      "metadata": {
        "id": "2Qr4--BCx29v",
        "colab_type": "text"
      },
      "source": [
        "<h2 style=\"text-align: center;\"><b>Библиотека <a href=\"http://pandas.pydata.org/\">pandas</a></b></h2>"
      ]
    },
    {
      "cell_type": "markdown",
      "metadata": {
        "id": "bbJ3Ztixx29w",
        "colab_type": "text"
      },
      "source": [
        "Библиотека `pandas` активно используется в современном data science для работы с данными, которые могут быть представлены в виде таблиц (а это очень, очень большая часть данных)"
      ]
    },
    {
      "cell_type": "markdown",
      "metadata": {
        "id": "SAkhb3h2x29x",
        "colab_type": "text"
      },
      "source": [
        "`pandas` есть в пакете Anaconda, но если вдруг у Вас её по каким-то причинам нет, то можно установить, раскомментировав следующую команду:"
      ]
    },
    {
      "cell_type": "code",
      "metadata": {
        "id": "XnmiF33Mx29y",
        "colab_type": "code",
        "colab": {}
      },
      "source": [
        "#!pip install pandas"
      ],
      "execution_count": 0,
      "outputs": []
    },
    {
      "cell_type": "code",
      "metadata": {
        "id": "mZXH1zCRx294",
        "colab_type": "code",
        "colab": {}
      },
      "source": [
        "import pandas as pd"
      ],
      "execution_count": 0,
      "outputs": []
    },
    {
      "cell_type": "markdown",
      "metadata": {
        "id": "tDgBesIWx29-",
        "colab_type": "text"
      },
      "source": [
        "Нужны данные. Про AppStore слышали? :)"
      ]
    },
    {
      "cell_type": "markdown",
      "metadata": {
        "id": "d6mqkT71x29_",
        "colab_type": "text"
      },
      "source": [
        "### Скачать данные: https://www.kaggle.com/ramamet4/app-store-apple-data-set-10k-apps"
      ]
    },
    {
      "cell_type": "markdown",
      "metadata": {
        "id": "C9Gug9DUx2-A",
        "colab_type": "text"
      },
      "source": [
        "Нас интересует файл `AppStore.csv`."
      ]
    },
    {
      "cell_type": "markdown",
      "metadata": {
        "id": "lie5xnjmx2-B",
        "colab_type": "text"
      },
      "source": [
        "Кстати, `.csv` (Comma Separated Values) - наверное, самый частый формат данных в современном data science. По сути, это то же самое, что и `.xls` (и `.xlsx`), то есть таблица. "
      ]
    },
    {
      "cell_type": "markdown",
      "metadata": {
        "id": "fHs57Mk0x2-D",
        "colab_type": "text"
      },
      "source": [
        "Итак, *чтение файла с данными*:"
      ]
    },
    {
      "cell_type": "code",
      "metadata": {
        "id": "UyWVzn1Wx2-E",
        "colab_type": "code",
        "colab": {}
      },
      "source": [
        "data = pd.read_csv('https://media.githubusercontent.com/media/DLSchool/dlschool/master/03.%20Pandas%2C%20Matplotlib%2C%20ML%20basics/app-store-apple-data-set-10k-apps/AppleStore.csv')"
      ],
      "execution_count": 0,
      "outputs": []
    },
    {
      "cell_type": "markdown",
      "metadata": {
        "id": "LHQb67KTx2-H",
        "colab_type": "text"
      },
      "source": [
        "Посмотрим, что же такое переменная `data`:"
      ]
    },
    {
      "cell_type": "code",
      "metadata": {
        "id": "XG4C37Hcx2-K",
        "colab_type": "code",
        "outputId": "b2ee6b51-bcf7-4fd0-df41-aad95ca6b386",
        "colab": {
          "base_uri": "https://localhost:8080/",
          "height": 1000
        }
      },
      "source": [
        "data"
      ],
      "execution_count": 3,
      "outputs": [
        {
          "output_type": "execute_result",
          "data": {
            "text/html": [
              "<div>\n",
              "<style scoped>\n",
              "    .dataframe tbody tr th:only-of-type {\n",
              "        vertical-align: middle;\n",
              "    }\n",
              "\n",
              "    .dataframe tbody tr th {\n",
              "        vertical-align: top;\n",
              "    }\n",
              "\n",
              "    .dataframe thead th {\n",
              "        text-align: right;\n",
              "    }\n",
              "</style>\n",
              "<table border=\"1\" class=\"dataframe\">\n",
              "  <thead>\n",
              "    <tr style=\"text-align: right;\">\n",
              "      <th></th>\n",
              "      <th>Unnamed: 0</th>\n",
              "      <th>id</th>\n",
              "      <th>track_name</th>\n",
              "      <th>size_bytes</th>\n",
              "      <th>currency</th>\n",
              "      <th>price</th>\n",
              "      <th>rating_count_tot</th>\n",
              "      <th>rating_count_ver</th>\n",
              "      <th>user_rating</th>\n",
              "      <th>user_rating_ver</th>\n",
              "      <th>ver</th>\n",
              "      <th>cont_rating</th>\n",
              "      <th>prime_genre</th>\n",
              "      <th>sup_devices.num</th>\n",
              "      <th>ipadSc_urls.num</th>\n",
              "      <th>lang.num</th>\n",
              "      <th>vpp_lic</th>\n",
              "    </tr>\n",
              "  </thead>\n",
              "  <tbody>\n",
              "    <tr>\n",
              "      <th>0</th>\n",
              "      <td>1</td>\n",
              "      <td>281656475</td>\n",
              "      <td>PAC-MAN Premium</td>\n",
              "      <td>100788224</td>\n",
              "      <td>USD</td>\n",
              "      <td>3.99</td>\n",
              "      <td>21292</td>\n",
              "      <td>26</td>\n",
              "      <td>4.0</td>\n",
              "      <td>4.5</td>\n",
              "      <td>6.3.5</td>\n",
              "      <td>4+</td>\n",
              "      <td>Games</td>\n",
              "      <td>38</td>\n",
              "      <td>5</td>\n",
              "      <td>10</td>\n",
              "      <td>1</td>\n",
              "    </tr>\n",
              "    <tr>\n",
              "      <th>1</th>\n",
              "      <td>2</td>\n",
              "      <td>281796108</td>\n",
              "      <td>Evernote - stay organized</td>\n",
              "      <td>158578688</td>\n",
              "      <td>USD</td>\n",
              "      <td>0.00</td>\n",
              "      <td>161065</td>\n",
              "      <td>26</td>\n",
              "      <td>4.0</td>\n",
              "      <td>3.5</td>\n",
              "      <td>8.2.2</td>\n",
              "      <td>4+</td>\n",
              "      <td>Productivity</td>\n",
              "      <td>37</td>\n",
              "      <td>5</td>\n",
              "      <td>23</td>\n",
              "      <td>1</td>\n",
              "    </tr>\n",
              "    <tr>\n",
              "      <th>2</th>\n",
              "      <td>3</td>\n",
              "      <td>281940292</td>\n",
              "      <td>WeatherBug - Local Weather, Radar, Maps, Alerts</td>\n",
              "      <td>100524032</td>\n",
              "      <td>USD</td>\n",
              "      <td>0.00</td>\n",
              "      <td>188583</td>\n",
              "      <td>2822</td>\n",
              "      <td>3.5</td>\n",
              "      <td>4.5</td>\n",
              "      <td>5.0.0</td>\n",
              "      <td>4+</td>\n",
              "      <td>Weather</td>\n",
              "      <td>37</td>\n",
              "      <td>5</td>\n",
              "      <td>3</td>\n",
              "      <td>1</td>\n",
              "    </tr>\n",
              "    <tr>\n",
              "      <th>3</th>\n",
              "      <td>4</td>\n",
              "      <td>282614216</td>\n",
              "      <td>eBay: Best App to Buy, Sell, Save! Online Shop...</td>\n",
              "      <td>128512000</td>\n",
              "      <td>USD</td>\n",
              "      <td>0.00</td>\n",
              "      <td>262241</td>\n",
              "      <td>649</td>\n",
              "      <td>4.0</td>\n",
              "      <td>4.5</td>\n",
              "      <td>5.10.0</td>\n",
              "      <td>12+</td>\n",
              "      <td>Shopping</td>\n",
              "      <td>37</td>\n",
              "      <td>5</td>\n",
              "      <td>9</td>\n",
              "      <td>1</td>\n",
              "    </tr>\n",
              "    <tr>\n",
              "      <th>4</th>\n",
              "      <td>5</td>\n",
              "      <td>282935706</td>\n",
              "      <td>Bible</td>\n",
              "      <td>92774400</td>\n",
              "      <td>USD</td>\n",
              "      <td>0.00</td>\n",
              "      <td>985920</td>\n",
              "      <td>5320</td>\n",
              "      <td>4.5</td>\n",
              "      <td>5.0</td>\n",
              "      <td>7.5.1</td>\n",
              "      <td>4+</td>\n",
              "      <td>Reference</td>\n",
              "      <td>37</td>\n",
              "      <td>5</td>\n",
              "      <td>45</td>\n",
              "      <td>1</td>\n",
              "    </tr>\n",
              "    <tr>\n",
              "      <th>5</th>\n",
              "      <td>6</td>\n",
              "      <td>283619399</td>\n",
              "      <td>Shanghai Mahjong</td>\n",
              "      <td>10485713</td>\n",
              "      <td>USD</td>\n",
              "      <td>0.99</td>\n",
              "      <td>8253</td>\n",
              "      <td>5516</td>\n",
              "      <td>4.0</td>\n",
              "      <td>4.0</td>\n",
              "      <td>1.8</td>\n",
              "      <td>4+</td>\n",
              "      <td>Games</td>\n",
              "      <td>47</td>\n",
              "      <td>5</td>\n",
              "      <td>1</td>\n",
              "      <td>1</td>\n",
              "    </tr>\n",
              "    <tr>\n",
              "      <th>6</th>\n",
              "      <td>7</td>\n",
              "      <td>283646709</td>\n",
              "      <td>PayPal - Send and request money safely</td>\n",
              "      <td>227795968</td>\n",
              "      <td>USD</td>\n",
              "      <td>0.00</td>\n",
              "      <td>119487</td>\n",
              "      <td>879</td>\n",
              "      <td>4.0</td>\n",
              "      <td>4.5</td>\n",
              "      <td>6.12.0</td>\n",
              "      <td>4+</td>\n",
              "      <td>Finance</td>\n",
              "      <td>37</td>\n",
              "      <td>0</td>\n",
              "      <td>19</td>\n",
              "      <td>1</td>\n",
              "    </tr>\n",
              "    <tr>\n",
              "      <th>7</th>\n",
              "      <td>8</td>\n",
              "      <td>284035177</td>\n",
              "      <td>Pandora - Music &amp; Radio</td>\n",
              "      <td>130242560</td>\n",
              "      <td>USD</td>\n",
              "      <td>0.00</td>\n",
              "      <td>1126879</td>\n",
              "      <td>3594</td>\n",
              "      <td>4.0</td>\n",
              "      <td>4.5</td>\n",
              "      <td>8.4.1</td>\n",
              "      <td>12+</td>\n",
              "      <td>Music</td>\n",
              "      <td>37</td>\n",
              "      <td>4</td>\n",
              "      <td>1</td>\n",
              "      <td>1</td>\n",
              "    </tr>\n",
              "    <tr>\n",
              "      <th>8</th>\n",
              "      <td>9</td>\n",
              "      <td>284666222</td>\n",
              "      <td>PCalc - The Best Calculator</td>\n",
              "      <td>49250304</td>\n",
              "      <td>USD</td>\n",
              "      <td>9.99</td>\n",
              "      <td>1117</td>\n",
              "      <td>4</td>\n",
              "      <td>4.5</td>\n",
              "      <td>5.0</td>\n",
              "      <td>3.6.6</td>\n",
              "      <td>4+</td>\n",
              "      <td>Utilities</td>\n",
              "      <td>37</td>\n",
              "      <td>5</td>\n",
              "      <td>1</td>\n",
              "      <td>1</td>\n",
              "    </tr>\n",
              "    <tr>\n",
              "      <th>9</th>\n",
              "      <td>10</td>\n",
              "      <td>284736660</td>\n",
              "      <td>Ms. PAC-MAN</td>\n",
              "      <td>70023168</td>\n",
              "      <td>USD</td>\n",
              "      <td>3.99</td>\n",
              "      <td>7885</td>\n",
              "      <td>40</td>\n",
              "      <td>4.0</td>\n",
              "      <td>4.0</td>\n",
              "      <td>4.0.4</td>\n",
              "      <td>4+</td>\n",
              "      <td>Games</td>\n",
              "      <td>38</td>\n",
              "      <td>0</td>\n",
              "      <td>10</td>\n",
              "      <td>1</td>\n",
              "    </tr>\n",
              "    <tr>\n",
              "      <th>10</th>\n",
              "      <td>11</td>\n",
              "      <td>284791396</td>\n",
              "      <td>Solitaire by MobilityWare</td>\n",
              "      <td>49618944</td>\n",
              "      <td>USD</td>\n",
              "      <td>4.99</td>\n",
              "      <td>76720</td>\n",
              "      <td>4017</td>\n",
              "      <td>4.5</td>\n",
              "      <td>4.5</td>\n",
              "      <td>4.10.1</td>\n",
              "      <td>4+</td>\n",
              "      <td>Games</td>\n",
              "      <td>38</td>\n",
              "      <td>4</td>\n",
              "      <td>11</td>\n",
              "      <td>1</td>\n",
              "    </tr>\n",
              "    <tr>\n",
              "      <th>11</th>\n",
              "      <td>12</td>\n",
              "      <td>284815117</td>\n",
              "      <td>SCRABBLE Premium</td>\n",
              "      <td>227547136</td>\n",
              "      <td>USD</td>\n",
              "      <td>7.99</td>\n",
              "      <td>105776</td>\n",
              "      <td>166</td>\n",
              "      <td>3.5</td>\n",
              "      <td>2.5</td>\n",
              "      <td>5.19.0</td>\n",
              "      <td>4+</td>\n",
              "      <td>Games</td>\n",
              "      <td>37</td>\n",
              "      <td>0</td>\n",
              "      <td>6</td>\n",
              "      <td>1</td>\n",
              "    </tr>\n",
              "    <tr>\n",
              "      <th>12</th>\n",
              "      <td>13</td>\n",
              "      <td>284815942</td>\n",
              "      <td>Google – Search made just for mobile</td>\n",
              "      <td>179979264</td>\n",
              "      <td>USD</td>\n",
              "      <td>0.00</td>\n",
              "      <td>479440</td>\n",
              "      <td>203</td>\n",
              "      <td>3.5</td>\n",
              "      <td>4.0</td>\n",
              "      <td>27.0</td>\n",
              "      <td>17+</td>\n",
              "      <td>Utilities</td>\n",
              "      <td>37</td>\n",
              "      <td>4</td>\n",
              "      <td>33</td>\n",
              "      <td>1</td>\n",
              "    </tr>\n",
              "    <tr>\n",
              "      <th>13</th>\n",
              "      <td>14</td>\n",
              "      <td>284847138</td>\n",
              "      <td>Bank of America - Mobile Banking</td>\n",
              "      <td>160925696</td>\n",
              "      <td>USD</td>\n",
              "      <td>0.00</td>\n",
              "      <td>119773</td>\n",
              "      <td>2336</td>\n",
              "      <td>3.5</td>\n",
              "      <td>4.5</td>\n",
              "      <td>7.3.8</td>\n",
              "      <td>4+</td>\n",
              "      <td>Finance</td>\n",
              "      <td>37</td>\n",
              "      <td>0</td>\n",
              "      <td>2</td>\n",
              "      <td>1</td>\n",
              "    </tr>\n",
              "    <tr>\n",
              "      <th>14</th>\n",
              "      <td>15</td>\n",
              "      <td>284862767</td>\n",
              "      <td>FreeCell</td>\n",
              "      <td>55153664</td>\n",
              "      <td>USD</td>\n",
              "      <td>4.99</td>\n",
              "      <td>6340</td>\n",
              "      <td>668</td>\n",
              "      <td>4.5</td>\n",
              "      <td>4.5</td>\n",
              "      <td>4.0.3</td>\n",
              "      <td>4+</td>\n",
              "      <td>Games</td>\n",
              "      <td>38</td>\n",
              "      <td>5</td>\n",
              "      <td>2</td>\n",
              "      <td>1</td>\n",
              "    </tr>\n",
              "    <tr>\n",
              "      <th>15</th>\n",
              "      <td>16</td>\n",
              "      <td>284876795</td>\n",
              "      <td>TripAdvisor Hotels Flights Restaurants</td>\n",
              "      <td>207907840</td>\n",
              "      <td>USD</td>\n",
              "      <td>0.00</td>\n",
              "      <td>56194</td>\n",
              "      <td>87</td>\n",
              "      <td>4.0</td>\n",
              "      <td>3.5</td>\n",
              "      <td>21.1</td>\n",
              "      <td>4+</td>\n",
              "      <td>Travel</td>\n",
              "      <td>37</td>\n",
              "      <td>1</td>\n",
              "      <td>26</td>\n",
              "      <td>1</td>\n",
              "    </tr>\n",
              "    <tr>\n",
              "      <th>16</th>\n",
              "      <td>17</td>\n",
              "      <td>284882215</td>\n",
              "      <td>Facebook</td>\n",
              "      <td>389879808</td>\n",
              "      <td>USD</td>\n",
              "      <td>0.00</td>\n",
              "      <td>2974676</td>\n",
              "      <td>212</td>\n",
              "      <td>3.5</td>\n",
              "      <td>3.5</td>\n",
              "      <td>95.0</td>\n",
              "      <td>4+</td>\n",
              "      <td>Social Networking</td>\n",
              "      <td>37</td>\n",
              "      <td>1</td>\n",
              "      <td>29</td>\n",
              "      <td>1</td>\n",
              "    </tr>\n",
              "    <tr>\n",
              "      <th>17</th>\n",
              "      <td>18</td>\n",
              "      <td>284910350</td>\n",
              "      <td>Yelp - Nearby Restaurants, Shopping &amp; Services</td>\n",
              "      <td>167407616</td>\n",
              "      <td>USD</td>\n",
              "      <td>0.00</td>\n",
              "      <td>223885</td>\n",
              "      <td>3726</td>\n",
              "      <td>4.0</td>\n",
              "      <td>4.5</td>\n",
              "      <td>11.15.0</td>\n",
              "      <td>12+</td>\n",
              "      <td>Travel</td>\n",
              "      <td>37</td>\n",
              "      <td>5</td>\n",
              "      <td>18</td>\n",
              "      <td>1</td>\n",
              "    </tr>\n",
              "    <tr>\n",
              "      <th>18</th>\n",
              "      <td>20</td>\n",
              "      <td>284993459</td>\n",
              "      <td>Shazam - Discover music, artists, videos &amp; lyrics</td>\n",
              "      <td>147093504</td>\n",
              "      <td>USD</td>\n",
              "      <td>0.00</td>\n",
              "      <td>402925</td>\n",
              "      <td>136</td>\n",
              "      <td>4.0</td>\n",
              "      <td>4.5</td>\n",
              "      <td>11.0.3</td>\n",
              "      <td>12+</td>\n",
              "      <td>Music</td>\n",
              "      <td>37</td>\n",
              "      <td>3</td>\n",
              "      <td>16</td>\n",
              "      <td>1</td>\n",
              "    </tr>\n",
              "    <tr>\n",
              "      <th>19</th>\n",
              "      <td>21</td>\n",
              "      <td>285005463</td>\n",
              "      <td>Crash Bandicoot Nitro Kart 3D</td>\n",
              "      <td>10735026</td>\n",
              "      <td>USD</td>\n",
              "      <td>2.99</td>\n",
              "      <td>31456</td>\n",
              "      <td>4178</td>\n",
              "      <td>4.0</td>\n",
              "      <td>3.5</td>\n",
              "      <td>1.0.0</td>\n",
              "      <td>4+</td>\n",
              "      <td>Games</td>\n",
              "      <td>47</td>\n",
              "      <td>0</td>\n",
              "      <td>1</td>\n",
              "      <td>1</td>\n",
              "    </tr>\n",
              "    <tr>\n",
              "      <th>20</th>\n",
              "      <td>22</td>\n",
              "      <td>285946052</td>\n",
              "      <td>iQuran</td>\n",
              "      <td>70707916</td>\n",
              "      <td>USD</td>\n",
              "      <td>1.99</td>\n",
              "      <td>2929</td>\n",
              "      <td>966</td>\n",
              "      <td>4.5</td>\n",
              "      <td>4.5</td>\n",
              "      <td>3.3</td>\n",
              "      <td>4+</td>\n",
              "      <td>Reference</td>\n",
              "      <td>43</td>\n",
              "      <td>0</td>\n",
              "      <td>2</td>\n",
              "      <td>1</td>\n",
              "    </tr>\n",
              "    <tr>\n",
              "      <th>21</th>\n",
              "      <td>23</td>\n",
              "      <td>285994151</td>\n",
              "      <td>:) Sudoku +</td>\n",
              "      <td>6169600</td>\n",
              "      <td>USD</td>\n",
              "      <td>2.99</td>\n",
              "      <td>11447</td>\n",
              "      <td>781</td>\n",
              "      <td>5.0</td>\n",
              "      <td>5.0</td>\n",
              "      <td>5.2.6</td>\n",
              "      <td>4+</td>\n",
              "      <td>Games</td>\n",
              "      <td>40</td>\n",
              "      <td>5</td>\n",
              "      <td>1</td>\n",
              "      <td>1</td>\n",
              "    </tr>\n",
              "    <tr>\n",
              "      <th>22</th>\n",
              "      <td>24</td>\n",
              "      <td>286058814</td>\n",
              "      <td>Yahoo Sports - Teams, Scores, News &amp; Highlights</td>\n",
              "      <td>130583552</td>\n",
              "      <td>USD</td>\n",
              "      <td>0.00</td>\n",
              "      <td>137951</td>\n",
              "      <td>131</td>\n",
              "      <td>4.0</td>\n",
              "      <td>4.5</td>\n",
              "      <td>6.9</td>\n",
              "      <td>4+</td>\n",
              "      <td>Sports</td>\n",
              "      <td>37</td>\n",
              "      <td>2</td>\n",
              "      <td>6</td>\n",
              "      <td>1</td>\n",
              "    </tr>\n",
              "    <tr>\n",
              "      <th>23</th>\n",
              "      <td>25</td>\n",
              "      <td>286070473</td>\n",
              "      <td>Mileage Log | Fahrtenbuch</td>\n",
              "      <td>71203840</td>\n",
              "      <td>USD</td>\n",
              "      <td>5.99</td>\n",
              "      <td>8</td>\n",
              "      <td>0</td>\n",
              "      <td>4.5</td>\n",
              "      <td>0.0</td>\n",
              "      <td>9.0.5</td>\n",
              "      <td>4+</td>\n",
              "      <td>Business</td>\n",
              "      <td>37</td>\n",
              "      <td>5</td>\n",
              "      <td>3</td>\n",
              "      <td>1</td>\n",
              "    </tr>\n",
              "    <tr>\n",
              "      <th>24</th>\n",
              "      <td>27</td>\n",
              "      <td>286799607</td>\n",
              "      <td>Cleartune - Chromatic Tuner</td>\n",
              "      <td>11423008</td>\n",
              "      <td>USD</td>\n",
              "      <td>3.99</td>\n",
              "      <td>3241</td>\n",
              "      <td>297</td>\n",
              "      <td>4.0</td>\n",
              "      <td>4.0</td>\n",
              "      <td>2.1.3</td>\n",
              "      <td>4+</td>\n",
              "      <td>Music</td>\n",
              "      <td>43</td>\n",
              "      <td>2</td>\n",
              "      <td>10</td>\n",
              "      <td>1</td>\n",
              "    </tr>\n",
              "    <tr>\n",
              "      <th>25</th>\n",
              "      <td>28</td>\n",
              "      <td>286906691</td>\n",
              "      <td>Lifesum – Inspiring healthy lifestyle app</td>\n",
              "      <td>188017664</td>\n",
              "      <td>USD</td>\n",
              "      <td>0.00</td>\n",
              "      <td>5795</td>\n",
              "      <td>12</td>\n",
              "      <td>3.5</td>\n",
              "      <td>4.0</td>\n",
              "      <td>8.4.1</td>\n",
              "      <td>4+</td>\n",
              "      <td>Health &amp; Fitness</td>\n",
              "      <td>37</td>\n",
              "      <td>5</td>\n",
              "      <td>11</td>\n",
              "      <td>1</td>\n",
              "    </tr>\n",
              "    <tr>\n",
              "      <th>26</th>\n",
              "      <td>29</td>\n",
              "      <td>286911400</td>\n",
              "      <td>Hangman.</td>\n",
              "      <td>4765696</td>\n",
              "      <td>USD</td>\n",
              "      <td>0.00</td>\n",
              "      <td>42316</td>\n",
              "      <td>248</td>\n",
              "      <td>3.0</td>\n",
              "      <td>3.5</td>\n",
              "      <td>2.0.6</td>\n",
              "      <td>9+</td>\n",
              "      <td>Games</td>\n",
              "      <td>38</td>\n",
              "      <td>0</td>\n",
              "      <td>1</td>\n",
              "      <td>1</td>\n",
              "    </tr>\n",
              "    <tr>\n",
              "      <th>27</th>\n",
              "      <td>31</td>\n",
              "      <td>288113403</td>\n",
              "      <td>iTranslate - Language Translator &amp; Dictionary</td>\n",
              "      <td>287933440</td>\n",
              "      <td>USD</td>\n",
              "      <td>0.00</td>\n",
              "      <td>123215</td>\n",
              "      <td>25</td>\n",
              "      <td>3.5</td>\n",
              "      <td>5.0</td>\n",
              "      <td>10.5.4</td>\n",
              "      <td>4+</td>\n",
              "      <td>Productivity</td>\n",
              "      <td>37</td>\n",
              "      <td>5</td>\n",
              "      <td>23</td>\n",
              "      <td>1</td>\n",
              "    </tr>\n",
              "    <tr>\n",
              "      <th>28</th>\n",
              "      <td>32</td>\n",
              "      <td>288120394</td>\n",
              "      <td>TouchOSC</td>\n",
              "      <td>4263936</td>\n",
              "      <td>USD</td>\n",
              "      <td>4.99</td>\n",
              "      <td>782</td>\n",
              "      <td>7</td>\n",
              "      <td>4.0</td>\n",
              "      <td>3.5</td>\n",
              "      <td>1.9.8</td>\n",
              "      <td>4+</td>\n",
              "      <td>Music</td>\n",
              "      <td>43</td>\n",
              "      <td>1</td>\n",
              "      <td>1</td>\n",
              "      <td>1</td>\n",
              "    </tr>\n",
              "    <tr>\n",
              "      <th>29</th>\n",
              "      <td>33</td>\n",
              "      <td>288419283</td>\n",
              "      <td>RadarScope</td>\n",
              "      <td>172772352</td>\n",
              "      <td>USD</td>\n",
              "      <td>9.99</td>\n",
              "      <td>3449</td>\n",
              "      <td>23</td>\n",
              "      <td>4.0</td>\n",
              "      <td>4.5</td>\n",
              "      <td>3.4.1</td>\n",
              "      <td>4+</td>\n",
              "      <td>Weather</td>\n",
              "      <td>37</td>\n",
              "      <td>5</td>\n",
              "      <td>1</td>\n",
              "      <td>1</td>\n",
              "    </tr>\n",
              "    <tr>\n",
              "      <th>...</th>\n",
              "      <td>...</td>\n",
              "      <td>...</td>\n",
              "      <td>...</td>\n",
              "      <td>...</td>\n",
              "      <td>...</td>\n",
              "      <td>...</td>\n",
              "      <td>...</td>\n",
              "      <td>...</td>\n",
              "      <td>...</td>\n",
              "      <td>...</td>\n",
              "      <td>...</td>\n",
              "      <td>...</td>\n",
              "      <td>...</td>\n",
              "      <td>...</td>\n",
              "      <td>...</td>\n",
              "      <td>...</td>\n",
              "      <td>...</td>\n",
              "    </tr>\n",
              "    <tr>\n",
              "      <th>7167</th>\n",
              "      <td>10995</td>\n",
              "      <td>1182265441</td>\n",
              "      <td>脱出ゲーム　わたしをみつけて　-おじいさんとわたしの物語-</td>\n",
              "      <td>177498112</td>\n",
              "      <td>USD</td>\n",
              "      <td>0.00</td>\n",
              "      <td>1</td>\n",
              "      <td>1</td>\n",
              "      <td>1.0</td>\n",
              "      <td>1.0</td>\n",
              "      <td>1.0.1</td>\n",
              "      <td>4+</td>\n",
              "      <td>Games</td>\n",
              "      <td>38</td>\n",
              "      <td>4</td>\n",
              "      <td>1</td>\n",
              "      <td>1</td>\n",
              "    </tr>\n",
              "    <tr>\n",
              "      <th>7168</th>\n",
              "      <td>10998</td>\n",
              "      <td>1182331762</td>\n",
              "      <td>Escape from the frigid Igloo.</td>\n",
              "      <td>89188352</td>\n",
              "      <td>USD</td>\n",
              "      <td>0.00</td>\n",
              "      <td>3</td>\n",
              "      <td>3</td>\n",
              "      <td>4.0</td>\n",
              "      <td>4.0</td>\n",
              "      <td>1.0.1</td>\n",
              "      <td>4+</td>\n",
              "      <td>Games</td>\n",
              "      <td>38</td>\n",
              "      <td>5</td>\n",
              "      <td>1</td>\n",
              "      <td>1</td>\n",
              "    </tr>\n",
              "    <tr>\n",
              "      <th>7169</th>\n",
              "      <td>11002</td>\n",
              "      <td>1182568288</td>\n",
              "      <td>Talking Santa - Video santa claus calls you</td>\n",
              "      <td>32685056</td>\n",
              "      <td>USD</td>\n",
              "      <td>2.99</td>\n",
              "      <td>9</td>\n",
              "      <td>3</td>\n",
              "      <td>3.0</td>\n",
              "      <td>3.5</td>\n",
              "      <td>1.0.1</td>\n",
              "      <td>4+</td>\n",
              "      <td>Entertainment</td>\n",
              "      <td>37</td>\n",
              "      <td>0</td>\n",
              "      <td>31</td>\n",
              "      <td>1</td>\n",
              "    </tr>\n",
              "    <tr>\n",
              "      <th>7170</th>\n",
              "      <td>11010</td>\n",
              "      <td>1183234072</td>\n",
              "      <td>CTFxCmoji</td>\n",
              "      <td>26077184</td>\n",
              "      <td>USD</td>\n",
              "      <td>0.00</td>\n",
              "      <td>39</td>\n",
              "      <td>4</td>\n",
              "      <td>5.0</td>\n",
              "      <td>5.0</td>\n",
              "      <td>1.3</td>\n",
              "      <td>9+</td>\n",
              "      <td>Social Networking</td>\n",
              "      <td>37</td>\n",
              "      <td>1</td>\n",
              "      <td>1</td>\n",
              "      <td>1</td>\n",
              "    </tr>\n",
              "    <tr>\n",
              "      <th>7171</th>\n",
              "      <td>11013</td>\n",
              "      <td>1183260922</td>\n",
              "      <td>Room Escape Game - Santa's Room</td>\n",
              "      <td>143346688</td>\n",
              "      <td>USD</td>\n",
              "      <td>0.00</td>\n",
              "      <td>10</td>\n",
              "      <td>10</td>\n",
              "      <td>5.0</td>\n",
              "      <td>5.0</td>\n",
              "      <td>1.0</td>\n",
              "      <td>4+</td>\n",
              "      <td>Games</td>\n",
              "      <td>40</td>\n",
              "      <td>0</td>\n",
              "      <td>1</td>\n",
              "      <td>1</td>\n",
              "    </tr>\n",
              "    <tr>\n",
              "      <th>7172</th>\n",
              "      <td>11016</td>\n",
              "      <td>1183548754</td>\n",
              "      <td>Rescue the Enchanter</td>\n",
              "      <td>242505728</td>\n",
              "      <td>USD</td>\n",
              "      <td>3.99</td>\n",
              "      <td>55</td>\n",
              "      <td>29</td>\n",
              "      <td>4.5</td>\n",
              "      <td>4.5</td>\n",
              "      <td>1.4</td>\n",
              "      <td>4+</td>\n",
              "      <td>Games</td>\n",
              "      <td>40</td>\n",
              "      <td>5</td>\n",
              "      <td>1</td>\n",
              "      <td>1</td>\n",
              "    </tr>\n",
              "    <tr>\n",
              "      <th>7173</th>\n",
              "      <td>11019</td>\n",
              "      <td>1183709176</td>\n",
              "      <td>My Diary - 你的名字非官方</td>\n",
              "      <td>18164736</td>\n",
              "      <td>USD</td>\n",
              "      <td>0.99</td>\n",
              "      <td>0</td>\n",
              "      <td>0</td>\n",
              "      <td>0.0</td>\n",
              "      <td>0.0</td>\n",
              "      <td>1.1</td>\n",
              "      <td>4+</td>\n",
              "      <td>Utilities</td>\n",
              "      <td>37</td>\n",
              "      <td>0</td>\n",
              "      <td>1</td>\n",
              "      <td>1</td>\n",
              "    </tr>\n",
              "    <tr>\n",
              "      <th>7174</th>\n",
              "      <td>11022</td>\n",
              "      <td>1183856228</td>\n",
              "      <td>VR Thrills: Roller Coaster 360 (Google Cardboard)</td>\n",
              "      <td>169535488</td>\n",
              "      <td>USD</td>\n",
              "      <td>0.00</td>\n",
              "      <td>14</td>\n",
              "      <td>4</td>\n",
              "      <td>4.0</td>\n",
              "      <td>3.5</td>\n",
              "      <td>1.3.0</td>\n",
              "      <td>4+</td>\n",
              "      <td>Games</td>\n",
              "      <td>37</td>\n",
              "      <td>5</td>\n",
              "      <td>1</td>\n",
              "      <td>1</td>\n",
              "    </tr>\n",
              "    <tr>\n",
              "      <th>7175</th>\n",
              "      <td>11024</td>\n",
              "      <td>1183986102</td>\n",
              "      <td>Santa Kids Hair Salon - Christmas Makeover Games</td>\n",
              "      <td>64244736</td>\n",
              "      <td>USD</td>\n",
              "      <td>0.00</td>\n",
              "      <td>41</td>\n",
              "      <td>19</td>\n",
              "      <td>4.5</td>\n",
              "      <td>4.5</td>\n",
              "      <td>1.3</td>\n",
              "      <td>4+</td>\n",
              "      <td>Games</td>\n",
              "      <td>37</td>\n",
              "      <td>5</td>\n",
              "      <td>25</td>\n",
              "      <td>1</td>\n",
              "    </tr>\n",
              "    <tr>\n",
              "      <th>7176</th>\n",
              "      <td>11027</td>\n",
              "      <td>1184711626</td>\n",
              "      <td>Human Juggling Cup</td>\n",
              "      <td>184324096</td>\n",
              "      <td>USD</td>\n",
              "      <td>0.00</td>\n",
              "      <td>0</td>\n",
              "      <td>0</td>\n",
              "      <td>0.0</td>\n",
              "      <td>0.0</td>\n",
              "      <td>1.0.1</td>\n",
              "      <td>4+</td>\n",
              "      <td>Games</td>\n",
              "      <td>40</td>\n",
              "      <td>4</td>\n",
              "      <td>1</td>\n",
              "      <td>1</td>\n",
              "    </tr>\n",
              "    <tr>\n",
              "      <th>7177</th>\n",
              "      <td>11031</td>\n",
              "      <td>1184800011</td>\n",
              "      <td>Again - room escape game</td>\n",
              "      <td>33946624</td>\n",
              "      <td>USD</td>\n",
              "      <td>0.00</td>\n",
              "      <td>11</td>\n",
              "      <td>8</td>\n",
              "      <td>4.0</td>\n",
              "      <td>4.0</td>\n",
              "      <td>1.1.0</td>\n",
              "      <td>4+</td>\n",
              "      <td>Games</td>\n",
              "      <td>37</td>\n",
              "      <td>5</td>\n",
              "      <td>1</td>\n",
              "      <td>1</td>\n",
              "    </tr>\n",
              "    <tr>\n",
              "      <th>7178</th>\n",
              "      <td>11033</td>\n",
              "      <td>1185209084</td>\n",
              "      <td>Saloons Unleashed</td>\n",
              "      <td>327731200</td>\n",
              "      <td>USD</td>\n",
              "      <td>0.99</td>\n",
              "      <td>0</td>\n",
              "      <td>0</td>\n",
              "      <td>0.0</td>\n",
              "      <td>0.0</td>\n",
              "      <td>1.1</td>\n",
              "      <td>4+</td>\n",
              "      <td>Games</td>\n",
              "      <td>37</td>\n",
              "      <td>5</td>\n",
              "      <td>1</td>\n",
              "      <td>1</td>\n",
              "    </tr>\n",
              "    <tr>\n",
              "      <th>7179</th>\n",
              "      <td>11035</td>\n",
              "      <td>1185328193</td>\n",
              "      <td>Fam — Group video calling for iMessage</td>\n",
              "      <td>113382400</td>\n",
              "      <td>USD</td>\n",
              "      <td>0.00</td>\n",
              "      <td>279</td>\n",
              "      <td>5</td>\n",
              "      <td>3.5</td>\n",
              "      <td>3.0</td>\n",
              "      <td>0.6.41</td>\n",
              "      <td>4+</td>\n",
              "      <td>Social Networking</td>\n",
              "      <td>37</td>\n",
              "      <td>4</td>\n",
              "      <td>1</td>\n",
              "      <td>1</td>\n",
              "    </tr>\n",
              "    <tr>\n",
              "      <th>7180</th>\n",
              "      <td>11036</td>\n",
              "      <td>1185365336</td>\n",
              "      <td>Laurie Hernandez the Human Emoji</td>\n",
              "      <td>94008320</td>\n",
              "      <td>USD</td>\n",
              "      <td>0.00</td>\n",
              "      <td>26</td>\n",
              "      <td>3</td>\n",
              "      <td>5.0</td>\n",
              "      <td>5.0</td>\n",
              "      <td>1.0.5</td>\n",
              "      <td>9+</td>\n",
              "      <td>Utilities</td>\n",
              "      <td>37</td>\n",
              "      <td>4</td>\n",
              "      <td>1</td>\n",
              "      <td>1</td>\n",
              "    </tr>\n",
              "    <tr>\n",
              "      <th>7181</th>\n",
              "      <td>11038</td>\n",
              "      <td>1185428381</td>\n",
              "      <td>剑倚手游</td>\n",
              "      <td>178160640</td>\n",
              "      <td>USD</td>\n",
              "      <td>0.99</td>\n",
              "      <td>0</td>\n",
              "      <td>0</td>\n",
              "      <td>0.0</td>\n",
              "      <td>0.0</td>\n",
              "      <td>1.0</td>\n",
              "      <td>9+</td>\n",
              "      <td>Games</td>\n",
              "      <td>40</td>\n",
              "      <td>5</td>\n",
              "      <td>0</td>\n",
              "      <td>1</td>\n",
              "    </tr>\n",
              "    <tr>\n",
              "      <th>7182</th>\n",
              "      <td>11040</td>\n",
              "      <td>1185538497</td>\n",
              "      <td>camera for filter</td>\n",
              "      <td>9362432</td>\n",
              "      <td>USD</td>\n",
              "      <td>0.00</td>\n",
              "      <td>0</td>\n",
              "      <td>0</td>\n",
              "      <td>0.0</td>\n",
              "      <td>0.0</td>\n",
              "      <td>1.0.3</td>\n",
              "      <td>4+</td>\n",
              "      <td>Photo &amp; Video</td>\n",
              "      <td>37</td>\n",
              "      <td>0</td>\n",
              "      <td>1</td>\n",
              "      <td>1</td>\n",
              "    </tr>\n",
              "    <tr>\n",
              "      <th>7183</th>\n",
              "      <td>11041</td>\n",
              "      <td>1185580782</td>\n",
              "      <td>Survivalcraft 2</td>\n",
              "      <td>57349120</td>\n",
              "      <td>USD</td>\n",
              "      <td>3.99</td>\n",
              "      <td>292</td>\n",
              "      <td>292</td>\n",
              "      <td>4.0</td>\n",
              "      <td>4.0</td>\n",
              "      <td>2.0.20.1</td>\n",
              "      <td>9+</td>\n",
              "      <td>Games</td>\n",
              "      <td>40</td>\n",
              "      <td>5</td>\n",
              "      <td>1</td>\n",
              "      <td>1</td>\n",
              "    </tr>\n",
              "    <tr>\n",
              "      <th>7184</th>\n",
              "      <td>11042</td>\n",
              "      <td>1185731859</td>\n",
              "      <td>剑客情缘-高爆率高掉落天天疯玩</td>\n",
              "      <td>171944960</td>\n",
              "      <td>USD</td>\n",
              "      <td>0.00</td>\n",
              "      <td>0</td>\n",
              "      <td>0</td>\n",
              "      <td>0.0</td>\n",
              "      <td>0.0</td>\n",
              "      <td>1.0</td>\n",
              "      <td>9+</td>\n",
              "      <td>Games</td>\n",
              "      <td>40</td>\n",
              "      <td>5</td>\n",
              "      <td>0</td>\n",
              "      <td>1</td>\n",
              "    </tr>\n",
              "    <tr>\n",
              "      <th>7185</th>\n",
              "      <td>11043</td>\n",
              "      <td>1185777521</td>\n",
              "      <td>问仙奇遇-新玩法新套装嗨到爆</td>\n",
              "      <td>208026624</td>\n",
              "      <td>USD</td>\n",
              "      <td>0.99</td>\n",
              "      <td>0</td>\n",
              "      <td>0</td>\n",
              "      <td>0.0</td>\n",
              "      <td>0.0</td>\n",
              "      <td>1.0</td>\n",
              "      <td>9+</td>\n",
              "      <td>Games</td>\n",
              "      <td>38</td>\n",
              "      <td>5</td>\n",
              "      <td>1</td>\n",
              "      <td>1</td>\n",
              "    </tr>\n",
              "    <tr>\n",
              "      <th>7186</th>\n",
              "      <td>11050</td>\n",
              "      <td>1186108496</td>\n",
              "      <td>脱出ゲーム - 書道教室 -  \"漢字\"の謎に満ちた部屋からの 脱出</td>\n",
              "      <td>85580800</td>\n",
              "      <td>USD</td>\n",
              "      <td>0.00</td>\n",
              "      <td>1</td>\n",
              "      <td>1</td>\n",
              "      <td>2.0</td>\n",
              "      <td>2.0</td>\n",
              "      <td>1.0.1</td>\n",
              "      <td>4+</td>\n",
              "      <td>Games</td>\n",
              "      <td>38</td>\n",
              "      <td>5</td>\n",
              "      <td>1</td>\n",
              "      <td>1</td>\n",
              "    </tr>\n",
              "    <tr>\n",
              "      <th>7187</th>\n",
              "      <td>11051</td>\n",
              "      <td>1186126548</td>\n",
              "      <td>Escape Game: illumination</td>\n",
              "      <td>52342784</td>\n",
              "      <td>USD</td>\n",
              "      <td>0.00</td>\n",
              "      <td>23</td>\n",
              "      <td>23</td>\n",
              "      <td>4.5</td>\n",
              "      <td>4.5</td>\n",
              "      <td>1.0</td>\n",
              "      <td>4+</td>\n",
              "      <td>Games</td>\n",
              "      <td>37</td>\n",
              "      <td>5</td>\n",
              "      <td>2</td>\n",
              "      <td>1</td>\n",
              "    </tr>\n",
              "    <tr>\n",
              "      <th>7188</th>\n",
              "      <td>11060</td>\n",
              "      <td>1186384912</td>\n",
              "      <td>Demolition Derby Virtual Reality (VR) Racing</td>\n",
              "      <td>168774656</td>\n",
              "      <td>USD</td>\n",
              "      <td>0.00</td>\n",
              "      <td>18</td>\n",
              "      <td>18</td>\n",
              "      <td>4.0</td>\n",
              "      <td>4.0</td>\n",
              "      <td>1.0.0</td>\n",
              "      <td>12+</td>\n",
              "      <td>Games</td>\n",
              "      <td>38</td>\n",
              "      <td>4</td>\n",
              "      <td>1</td>\n",
              "      <td>1</td>\n",
              "    </tr>\n",
              "    <tr>\n",
              "      <th>7189</th>\n",
              "      <td>11074</td>\n",
              "      <td>1187128255</td>\n",
              "      <td>飞刀传奇-动作武侠热血江湖即时PK传奇（登录爆金装）</td>\n",
              "      <td>537462784</td>\n",
              "      <td>USD</td>\n",
              "      <td>0.99</td>\n",
              "      <td>0</td>\n",
              "      <td>0</td>\n",
              "      <td>0.0</td>\n",
              "      <td>0.0</td>\n",
              "      <td>2.1.0</td>\n",
              "      <td>9+</td>\n",
              "      <td>Games</td>\n",
              "      <td>38</td>\n",
              "      <td>5</td>\n",
              "      <td>1</td>\n",
              "      <td>1</td>\n",
              "    </tr>\n",
              "    <tr>\n",
              "      <th>7190</th>\n",
              "      <td>11077</td>\n",
              "      <td>1187279979</td>\n",
              "      <td>Add-Ons Studio for Minecraft</td>\n",
              "      <td>22999040</td>\n",
              "      <td>USD</td>\n",
              "      <td>2.99</td>\n",
              "      <td>97</td>\n",
              "      <td>97</td>\n",
              "      <td>3.0</td>\n",
              "      <td>3.0</td>\n",
              "      <td>1.0</td>\n",
              "      <td>4+</td>\n",
              "      <td>Games</td>\n",
              "      <td>37</td>\n",
              "      <td>5</td>\n",
              "      <td>3</td>\n",
              "      <td>1</td>\n",
              "    </tr>\n",
              "    <tr>\n",
              "      <th>7191</th>\n",
              "      <td>11079</td>\n",
              "      <td>1187282363</td>\n",
              "      <td>Plead the Fifth - The Game</td>\n",
              "      <td>27853824</td>\n",
              "      <td>USD</td>\n",
              "      <td>2.99</td>\n",
              "      <td>11</td>\n",
              "      <td>0</td>\n",
              "      <td>4.0</td>\n",
              "      <td>0.0</td>\n",
              "      <td>1.1.1</td>\n",
              "      <td>17+</td>\n",
              "      <td>Games</td>\n",
              "      <td>37</td>\n",
              "      <td>0</td>\n",
              "      <td>1</td>\n",
              "      <td>1</td>\n",
              "    </tr>\n",
              "    <tr>\n",
              "      <th>7192</th>\n",
              "      <td>11081</td>\n",
              "      <td>1187617475</td>\n",
              "      <td>Kubik</td>\n",
              "      <td>126644224</td>\n",
              "      <td>USD</td>\n",
              "      <td>0.00</td>\n",
              "      <td>142</td>\n",
              "      <td>75</td>\n",
              "      <td>4.5</td>\n",
              "      <td>4.5</td>\n",
              "      <td>1.3</td>\n",
              "      <td>4+</td>\n",
              "      <td>Games</td>\n",
              "      <td>38</td>\n",
              "      <td>5</td>\n",
              "      <td>1</td>\n",
              "      <td>1</td>\n",
              "    </tr>\n",
              "    <tr>\n",
              "      <th>7193</th>\n",
              "      <td>11082</td>\n",
              "      <td>1187682390</td>\n",
              "      <td>VR Roller-Coaster</td>\n",
              "      <td>120760320</td>\n",
              "      <td>USD</td>\n",
              "      <td>0.00</td>\n",
              "      <td>30</td>\n",
              "      <td>30</td>\n",
              "      <td>4.5</td>\n",
              "      <td>4.5</td>\n",
              "      <td>0.9</td>\n",
              "      <td>4+</td>\n",
              "      <td>Games</td>\n",
              "      <td>38</td>\n",
              "      <td>0</td>\n",
              "      <td>1</td>\n",
              "      <td>1</td>\n",
              "    </tr>\n",
              "    <tr>\n",
              "      <th>7194</th>\n",
              "      <td>11087</td>\n",
              "      <td>1187779532</td>\n",
              "      <td>Bret Michaels Emojis + Lyric Keyboard</td>\n",
              "      <td>111322112</td>\n",
              "      <td>USD</td>\n",
              "      <td>1.99</td>\n",
              "      <td>15</td>\n",
              "      <td>0</td>\n",
              "      <td>4.5</td>\n",
              "      <td>0.0</td>\n",
              "      <td>1.0.2</td>\n",
              "      <td>9+</td>\n",
              "      <td>Utilities</td>\n",
              "      <td>37</td>\n",
              "      <td>1</td>\n",
              "      <td>1</td>\n",
              "      <td>1</td>\n",
              "    </tr>\n",
              "    <tr>\n",
              "      <th>7195</th>\n",
              "      <td>11089</td>\n",
              "      <td>1187838770</td>\n",
              "      <td>VR Roller Coaster World - Virtual Reality</td>\n",
              "      <td>97235968</td>\n",
              "      <td>USD</td>\n",
              "      <td>0.00</td>\n",
              "      <td>85</td>\n",
              "      <td>32</td>\n",
              "      <td>4.5</td>\n",
              "      <td>4.5</td>\n",
              "      <td>1.0.15</td>\n",
              "      <td>12+</td>\n",
              "      <td>Games</td>\n",
              "      <td>38</td>\n",
              "      <td>0</td>\n",
              "      <td>2</td>\n",
              "      <td>1</td>\n",
              "    </tr>\n",
              "    <tr>\n",
              "      <th>7196</th>\n",
              "      <td>11097</td>\n",
              "      <td>1188375727</td>\n",
              "      <td>Escape the Sweet Shop Series</td>\n",
              "      <td>90898432</td>\n",
              "      <td>USD</td>\n",
              "      <td>0.00</td>\n",
              "      <td>3</td>\n",
              "      <td>3</td>\n",
              "      <td>5.0</td>\n",
              "      <td>5.0</td>\n",
              "      <td>1.0</td>\n",
              "      <td>4+</td>\n",
              "      <td>Games</td>\n",
              "      <td>40</td>\n",
              "      <td>0</td>\n",
              "      <td>2</td>\n",
              "      <td>1</td>\n",
              "    </tr>\n",
              "  </tbody>\n",
              "</table>\n",
              "<p>7197 rows × 17 columns</p>\n",
              "</div>"
            ],
            "text/plain": [
              "      Unnamed: 0          id  ... lang.num  vpp_lic\n",
              "0              1   281656475  ...       10        1\n",
              "1              2   281796108  ...       23        1\n",
              "2              3   281940292  ...        3        1\n",
              "3              4   282614216  ...        9        1\n",
              "4              5   282935706  ...       45        1\n",
              "5              6   283619399  ...        1        1\n",
              "6              7   283646709  ...       19        1\n",
              "7              8   284035177  ...        1        1\n",
              "8              9   284666222  ...        1        1\n",
              "9             10   284736660  ...       10        1\n",
              "10            11   284791396  ...       11        1\n",
              "11            12   284815117  ...        6        1\n",
              "12            13   284815942  ...       33        1\n",
              "13            14   284847138  ...        2        1\n",
              "14            15   284862767  ...        2        1\n",
              "15            16   284876795  ...       26        1\n",
              "16            17   284882215  ...       29        1\n",
              "17            18   284910350  ...       18        1\n",
              "18            20   284993459  ...       16        1\n",
              "19            21   285005463  ...        1        1\n",
              "20            22   285946052  ...        2        1\n",
              "21            23   285994151  ...        1        1\n",
              "22            24   286058814  ...        6        1\n",
              "23            25   286070473  ...        3        1\n",
              "24            27   286799607  ...       10        1\n",
              "25            28   286906691  ...       11        1\n",
              "26            29   286911400  ...        1        1\n",
              "27            31   288113403  ...       23        1\n",
              "28            32   288120394  ...        1        1\n",
              "29            33   288419283  ...        1        1\n",
              "...          ...         ...  ...      ...      ...\n",
              "7167       10995  1182265441  ...        1        1\n",
              "7168       10998  1182331762  ...        1        1\n",
              "7169       11002  1182568288  ...       31        1\n",
              "7170       11010  1183234072  ...        1        1\n",
              "7171       11013  1183260922  ...        1        1\n",
              "7172       11016  1183548754  ...        1        1\n",
              "7173       11019  1183709176  ...        1        1\n",
              "7174       11022  1183856228  ...        1        1\n",
              "7175       11024  1183986102  ...       25        1\n",
              "7176       11027  1184711626  ...        1        1\n",
              "7177       11031  1184800011  ...        1        1\n",
              "7178       11033  1185209084  ...        1        1\n",
              "7179       11035  1185328193  ...        1        1\n",
              "7180       11036  1185365336  ...        1        1\n",
              "7181       11038  1185428381  ...        0        1\n",
              "7182       11040  1185538497  ...        1        1\n",
              "7183       11041  1185580782  ...        1        1\n",
              "7184       11042  1185731859  ...        0        1\n",
              "7185       11043  1185777521  ...        1        1\n",
              "7186       11050  1186108496  ...        1        1\n",
              "7187       11051  1186126548  ...        2        1\n",
              "7188       11060  1186384912  ...        1        1\n",
              "7189       11074  1187128255  ...        1        1\n",
              "7190       11077  1187279979  ...        3        1\n",
              "7191       11079  1187282363  ...        1        1\n",
              "7192       11081  1187617475  ...        1        1\n",
              "7193       11082  1187682390  ...        1        1\n",
              "7194       11087  1187779532  ...        1        1\n",
              "7195       11089  1187838770  ...        2        1\n",
              "7196       11097  1188375727  ...        2        1\n",
              "\n",
              "[7197 rows x 17 columns]"
            ]
          },
          "metadata": {
            "tags": []
          },
          "execution_count": 3
        }
      ]
    },
    {
      "cell_type": "markdown",
      "metadata": {
        "id": "nEZ50vKk5gt-",
        "colab_type": "text"
      },
      "source": [
        "# New Section"
      ]
    },
    {
      "cell_type": "code",
      "metadata": {
        "id": "_TfyEjpjx2-a",
        "colab_type": "code",
        "outputId": "191d4e1b-c254-4286-ffad-edd84167c0eb",
        "colab": {
          "base_uri": "https://localhost:8080/",
          "height": 34
        }
      },
      "source": [
        "type(data)"
      ],
      "execution_count": 4,
      "outputs": [
        {
          "output_type": "execute_result",
          "data": {
            "text/plain": [
              "pandas.core.frame.DataFrame"
            ]
          },
          "metadata": {
            "tags": []
          },
          "execution_count": 4
        }
      ]
    },
    {
      "cell_type": "markdown",
      "metadata": {
        "id": "JiRUB1E1x2-k",
        "colab_type": "text"
      },
      "source": [
        "Тип == `pandas.core.frame.DataFrame`, обычно говорят просто \"датафрейм\", то есть \"кусок данных\"."
      ]
    },
    {
      "cell_type": "markdown",
      "metadata": {
        "id": "q50pVJSzx2-n",
        "colab_type": "text"
      },
      "source": [
        "Можно вывести информацию по датафрейму:"
      ]
    },
    {
      "cell_type": "code",
      "metadata": {
        "id": "aeBjU8mgx2-q",
        "colab_type": "code",
        "outputId": "e15ddefa-3359-48de-a781-93e72ecf787f",
        "colab": {
          "base_uri": "https://localhost:8080/",
          "height": 391
        }
      },
      "source": [
        "data.info()"
      ],
      "execution_count": 5,
      "outputs": [
        {
          "output_type": "stream",
          "text": [
            "<class 'pandas.core.frame.DataFrame'>\n",
            "RangeIndex: 7197 entries, 0 to 7196\n",
            "Data columns (total 17 columns):\n",
            "Unnamed: 0          7197 non-null int64\n",
            "id                  7197 non-null int64\n",
            "track_name          7197 non-null object\n",
            "size_bytes          7197 non-null int64\n",
            "currency            7197 non-null object\n",
            "price               7197 non-null float64\n",
            "rating_count_tot    7197 non-null int64\n",
            "rating_count_ver    7197 non-null int64\n",
            "user_rating         7197 non-null float64\n",
            "user_rating_ver     7197 non-null float64\n",
            "ver                 7197 non-null object\n",
            "cont_rating         7197 non-null object\n",
            "prime_genre         7197 non-null object\n",
            "sup_devices.num     7197 non-null int64\n",
            "ipadSc_urls.num     7197 non-null int64\n",
            "lang.num            7197 non-null int64\n",
            "vpp_lic             7197 non-null int64\n",
            "dtypes: float64(3), int64(9), object(5)\n",
            "memory usage: 955.9+ KB\n"
          ],
          "name": "stdout"
        }
      ]
    },
    {
      "cell_type": "markdown",
      "metadata": {
        "id": "_IFJxLFgx2-y",
        "colab_type": "text"
      },
      "source": [
        "И более статистически значимую информацию:"
      ]
    },
    {
      "cell_type": "code",
      "metadata": {
        "scrolled": false,
        "id": "m-VKNfLex2-1",
        "colab_type": "code",
        "outputId": "5831e0d8-5bac-4444-f69a-765733bd17f5",
        "colab": {
          "base_uri": "https://localhost:8080/",
          "height": 317
        }
      },
      "source": [
        "data.describe()"
      ],
      "execution_count": 6,
      "outputs": [
        {
          "output_type": "execute_result",
          "data": {
            "text/html": [
              "<div>\n",
              "<style scoped>\n",
              "    .dataframe tbody tr th:only-of-type {\n",
              "        vertical-align: middle;\n",
              "    }\n",
              "\n",
              "    .dataframe tbody tr th {\n",
              "        vertical-align: top;\n",
              "    }\n",
              "\n",
              "    .dataframe thead th {\n",
              "        text-align: right;\n",
              "    }\n",
              "</style>\n",
              "<table border=\"1\" class=\"dataframe\">\n",
              "  <thead>\n",
              "    <tr style=\"text-align: right;\">\n",
              "      <th></th>\n",
              "      <th>Unnamed: 0</th>\n",
              "      <th>id</th>\n",
              "      <th>size_bytes</th>\n",
              "      <th>price</th>\n",
              "      <th>rating_count_tot</th>\n",
              "      <th>rating_count_ver</th>\n",
              "      <th>user_rating</th>\n",
              "      <th>user_rating_ver</th>\n",
              "      <th>sup_devices.num</th>\n",
              "      <th>ipadSc_urls.num</th>\n",
              "      <th>lang.num</th>\n",
              "      <th>vpp_lic</th>\n",
              "    </tr>\n",
              "  </thead>\n",
              "  <tbody>\n",
              "    <tr>\n",
              "      <th>count</th>\n",
              "      <td>7197.000000</td>\n",
              "      <td>7.197000e+03</td>\n",
              "      <td>7.197000e+03</td>\n",
              "      <td>7197.000000</td>\n",
              "      <td>7.197000e+03</td>\n",
              "      <td>7197.000000</td>\n",
              "      <td>7197.000000</td>\n",
              "      <td>7197.000000</td>\n",
              "      <td>7197.000000</td>\n",
              "      <td>7197.000000</td>\n",
              "      <td>7197.000000</td>\n",
              "      <td>7197.000000</td>\n",
              "    </tr>\n",
              "    <tr>\n",
              "      <th>mean</th>\n",
              "      <td>4759.069612</td>\n",
              "      <td>8.631310e+08</td>\n",
              "      <td>1.991345e+08</td>\n",
              "      <td>1.726218</td>\n",
              "      <td>1.289291e+04</td>\n",
              "      <td>460.373906</td>\n",
              "      <td>3.526956</td>\n",
              "      <td>3.253578</td>\n",
              "      <td>37.361817</td>\n",
              "      <td>3.707100</td>\n",
              "      <td>5.434903</td>\n",
              "      <td>0.993053</td>\n",
              "    </tr>\n",
              "    <tr>\n",
              "      <th>std</th>\n",
              "      <td>3093.625213</td>\n",
              "      <td>2.712368e+08</td>\n",
              "      <td>3.592069e+08</td>\n",
              "      <td>5.833006</td>\n",
              "      <td>7.573941e+04</td>\n",
              "      <td>3920.455183</td>\n",
              "      <td>1.517948</td>\n",
              "      <td>1.809363</td>\n",
              "      <td>3.737715</td>\n",
              "      <td>1.986005</td>\n",
              "      <td>7.919593</td>\n",
              "      <td>0.083066</td>\n",
              "    </tr>\n",
              "    <tr>\n",
              "      <th>min</th>\n",
              "      <td>1.000000</td>\n",
              "      <td>2.816565e+08</td>\n",
              "      <td>5.898240e+05</td>\n",
              "      <td>0.000000</td>\n",
              "      <td>0.000000e+00</td>\n",
              "      <td>0.000000</td>\n",
              "      <td>0.000000</td>\n",
              "      <td>0.000000</td>\n",
              "      <td>9.000000</td>\n",
              "      <td>0.000000</td>\n",
              "      <td>0.000000</td>\n",
              "      <td>0.000000</td>\n",
              "    </tr>\n",
              "    <tr>\n",
              "      <th>25%</th>\n",
              "      <td>2090.000000</td>\n",
              "      <td>6.000937e+08</td>\n",
              "      <td>4.692275e+07</td>\n",
              "      <td>0.000000</td>\n",
              "      <td>2.800000e+01</td>\n",
              "      <td>1.000000</td>\n",
              "      <td>3.500000</td>\n",
              "      <td>2.500000</td>\n",
              "      <td>37.000000</td>\n",
              "      <td>3.000000</td>\n",
              "      <td>1.000000</td>\n",
              "      <td>1.000000</td>\n",
              "    </tr>\n",
              "    <tr>\n",
              "      <th>50%</th>\n",
              "      <td>4380.000000</td>\n",
              "      <td>9.781482e+08</td>\n",
              "      <td>9.715302e+07</td>\n",
              "      <td>0.000000</td>\n",
              "      <td>3.000000e+02</td>\n",
              "      <td>23.000000</td>\n",
              "      <td>4.000000</td>\n",
              "      <td>4.000000</td>\n",
              "      <td>37.000000</td>\n",
              "      <td>5.000000</td>\n",
              "      <td>1.000000</td>\n",
              "      <td>1.000000</td>\n",
              "    </tr>\n",
              "    <tr>\n",
              "      <th>75%</th>\n",
              "      <td>7223.000000</td>\n",
              "      <td>1.082310e+09</td>\n",
              "      <td>1.819249e+08</td>\n",
              "      <td>1.990000</td>\n",
              "      <td>2.793000e+03</td>\n",
              "      <td>140.000000</td>\n",
              "      <td>4.500000</td>\n",
              "      <td>4.500000</td>\n",
              "      <td>38.000000</td>\n",
              "      <td>5.000000</td>\n",
              "      <td>8.000000</td>\n",
              "      <td>1.000000</td>\n",
              "    </tr>\n",
              "    <tr>\n",
              "      <th>max</th>\n",
              "      <td>11097.000000</td>\n",
              "      <td>1.188376e+09</td>\n",
              "      <td>4.025970e+09</td>\n",
              "      <td>299.990000</td>\n",
              "      <td>2.974676e+06</td>\n",
              "      <td>177050.000000</td>\n",
              "      <td>5.000000</td>\n",
              "      <td>5.000000</td>\n",
              "      <td>47.000000</td>\n",
              "      <td>5.000000</td>\n",
              "      <td>75.000000</td>\n",
              "      <td>1.000000</td>\n",
              "    </tr>\n",
              "  </tbody>\n",
              "</table>\n",
              "</div>"
            ],
            "text/plain": [
              "         Unnamed: 0            id  ...     lang.num      vpp_lic\n",
              "count   7197.000000  7.197000e+03  ...  7197.000000  7197.000000\n",
              "mean    4759.069612  8.631310e+08  ...     5.434903     0.993053\n",
              "std     3093.625213  2.712368e+08  ...     7.919593     0.083066\n",
              "min        1.000000  2.816565e+08  ...     0.000000     0.000000\n",
              "25%     2090.000000  6.000937e+08  ...     1.000000     1.000000\n",
              "50%     4380.000000  9.781482e+08  ...     1.000000     1.000000\n",
              "75%     7223.000000  1.082310e+09  ...     8.000000     1.000000\n",
              "max    11097.000000  1.188376e+09  ...    75.000000     1.000000\n",
              "\n",
              "[8 rows x 12 columns]"
            ]
          },
          "metadata": {
            "tags": []
          },
          "execution_count": 6
        }
      ]
    },
    {
      "cell_type": "markdown",
      "metadata": {
        "id": "0bpm25aRx2_A",
        "colab_type": "text"
      },
      "source": [
        "Итак, наши данные -- это какая-то **информация про приложения в AppStore**. Давайте посмотрим, что тут есть:"
      ]
    },
    {
      "cell_type": "code",
      "metadata": {
        "scrolled": false,
        "id": "7xO9Ldgdx2_D",
        "colab_type": "code",
        "outputId": "ec254cef-c2fc-487d-b8a2-7be899d5bc75",
        "colab": {
          "base_uri": "https://localhost:8080/",
          "height": 102
        }
      },
      "source": [
        "# все столбцы датафрейма (названия)\n",
        "data.columns"
      ],
      "execution_count": 7,
      "outputs": [
        {
          "output_type": "execute_result",
          "data": {
            "text/plain": [
              "Index(['Unnamed: 0', 'id', 'track_name', 'size_bytes', 'currency', 'price',\n",
              "       'rating_count_tot', 'rating_count_ver', 'user_rating',\n",
              "       'user_rating_ver', 'ver', 'cont_rating', 'prime_genre',\n",
              "       'sup_devices.num', 'ipadSc_urls.num', 'lang.num', 'vpp_lic'],\n",
              "      dtype='object')"
            ]
          },
          "metadata": {
            "tags": []
          },
          "execution_count": 7
        }
      ]
    },
    {
      "cell_type": "markdown",
      "metadata": {
        "id": "oSEyvfIox2_K",
        "colab_type": "text"
      },
      "source": [
        "---"
      ]
    },
    {
      "cell_type": "markdown",
      "metadata": {
        "id": "Ce99kyymx2_M",
        "colab_type": "text"
      },
      "source": [
        "#### Задание 0"
      ]
    },
    {
      "cell_type": "markdown",
      "metadata": {
        "id": "qlQBuUWSx2_N",
        "colab_type": "text"
      },
      "source": [
        "О чём данные? (судя по столбцам)"
      ]
    },
    {
      "cell_type": "markdown",
      "metadata": {
        "id": "hnZXmz7Cx2_S",
        "colab_type": "text"
      },
      "source": [
        "---"
      ]
    },
    {
      "cell_type": "markdown",
      "metadata": {
        "id": "hyCF-1rmx2_U",
        "colab_type": "text"
      },
      "source": [
        "Все значения датафрейма:"
      ]
    },
    {
      "cell_type": "code",
      "metadata": {
        "id": "zUtxvU47x2_V",
        "colab_type": "code",
        "outputId": "af4ad37d-da7b-4c86-aaa3-12b1350a1acf",
        "colab": {
          "base_uri": "https://localhost:8080/",
          "height": 204
        }
      },
      "source": [
        "# одна строка == описание одного объекта, в данном случае -- приложения из AppStore\n",
        "data.values"
      ],
      "execution_count": 8,
      "outputs": [
        {
          "output_type": "execute_result",
          "data": {
            "text/plain": [
              "array([[1, 281656475, 'PAC-MAN Premium', ..., 5, 10, 1],\n",
              "       [2, 281796108, 'Evernote - stay organized', ..., 5, 23, 1],\n",
              "       [3, 281940292, 'WeatherBug - Local Weather, Radar, Maps, Alerts',\n",
              "        ..., 5, 3, 1],\n",
              "       ...,\n",
              "       [11087, 1187779532, 'Bret Michaels Emojis + Lyric Keyboard', ...,\n",
              "        1, 1, 1],\n",
              "       [11089, 1187838770, 'VR Roller Coaster World - Virtual Reality',\n",
              "        ..., 0, 2, 1],\n",
              "       [11097, 1188375727, 'Escape the Sweet Shop Series', ..., 0, 2, 1]],\n",
              "      dtype=object)"
            ]
          },
          "metadata": {
            "tags": []
          },
          "execution_count": 8
        }
      ]
    },
    {
      "cell_type": "code",
      "metadata": {
        "id": "VGKBfnF-x2_a",
        "colab_type": "code",
        "outputId": "156082fb-d0d1-4954-fd74-0199b48b80fc",
        "colab": {
          "base_uri": "https://localhost:8080/",
          "height": 51
        }
      },
      "source": [
        "data.values[0]"
      ],
      "execution_count": 9,
      "outputs": [
        {
          "output_type": "execute_result",
          "data": {
            "text/plain": [
              "array([1, 281656475, 'PAC-MAN Premium', 100788224, 'USD', 3.99, 21292, 26,\n",
              "       4.0, 4.5, '6.3.5', '4+', 'Games', 38, 5, 10, 1], dtype=object)"
            ]
          },
          "metadata": {
            "tags": []
          },
          "execution_count": 9
        }
      ]
    },
    {
      "cell_type": "code",
      "metadata": {
        "id": "QBY9cBvUx2_e",
        "colab_type": "code",
        "outputId": "53f87ac4-3c28-4005-f90d-ce7a51f8ebc8",
        "colab": {
          "base_uri": "https://localhost:8080/",
          "height": 34
        }
      },
      "source": [
        "data.shape"
      ],
      "execution_count": 10,
      "outputs": [
        {
          "output_type": "execute_result",
          "data": {
            "text/plain": [
              "(7197, 17)"
            ]
          },
          "metadata": {
            "tags": []
          },
          "execution_count": 10
        }
      ]
    },
    {
      "cell_type": "markdown",
      "metadata": {
        "id": "V47TejIix2_l",
        "colab_type": "text"
      },
      "source": [
        "-- то есть 7197 строк и 17 столбцов."
      ]
    },
    {
      "cell_type": "markdown",
      "metadata": {
        "id": "5WEi535ux2_n",
        "colab_type": "text"
      },
      "source": [
        "Важно уметь обращаться к определённой строке или столбцу dataframe'а. Индексирование очень похоже на numpy, однако есть свои тонкости:"
      ]
    },
    {
      "cell_type": "markdown",
      "metadata": {
        "id": "UjG7abWSx2_p",
        "colab_type": "text"
      },
      "source": [
        "* Получить весь столбец (в даном случае столбец 'track_name'):"
      ]
    },
    {
      "cell_type": "code",
      "metadata": {
        "scrolled": true,
        "id": "6XuBrPFRx2_t",
        "colab_type": "code",
        "outputId": "a0ede324-79b3-4499-d8c6-257990ccaeee",
        "colab": {
          "base_uri": "https://localhost:8080/",
          "height": 1000
        }
      },
      "source": [
        "data['track_name']"
      ],
      "execution_count": 11,
      "outputs": [
        {
          "output_type": "execute_result",
          "data": {
            "text/plain": [
              "0                                         PAC-MAN Premium\n",
              "1                               Evernote - stay organized\n",
              "2         WeatherBug - Local Weather, Radar, Maps, Alerts\n",
              "3       eBay: Best App to Buy, Sell, Save! Online Shop...\n",
              "4                                                   Bible\n",
              "5                                        Shanghai Mahjong\n",
              "6                  PayPal - Send and request money safely\n",
              "7                                 Pandora - Music & Radio\n",
              "8                             PCalc - The Best Calculator\n",
              "9                                             Ms. PAC-MAN\n",
              "10                              Solitaire by MobilityWare\n",
              "11                                       SCRABBLE Premium\n",
              "12                   Google – Search made just for mobile\n",
              "13                       Bank of America - Mobile Banking\n",
              "14                                               FreeCell\n",
              "15                 TripAdvisor Hotels Flights Restaurants\n",
              "16                                               Facebook\n",
              "17         Yelp - Nearby Restaurants, Shopping & Services\n",
              "18      Shazam - Discover music, artists, videos & lyrics\n",
              "19                          Crash Bandicoot Nitro Kart 3D\n",
              "20                                                 iQuran\n",
              "21                                            :) Sudoku +\n",
              "22        Yahoo Sports - Teams, Scores, News & Highlights\n",
              "23                              Mileage Log | Fahrtenbuch\n",
              "24                            Cleartune - Chromatic Tuner\n",
              "25              Lifesum – Inspiring healthy lifestyle app\n",
              "26                                               Hangman.\n",
              "27          iTranslate - Language Translator & Dictionary\n",
              "28                                               TouchOSC\n",
              "29                                             RadarScope\n",
              "                              ...                        \n",
              "7167                        脱出ゲーム　わたしをみつけて　-おじいさんとわたしの物語-\n",
              "7168                        Escape from the frigid Igloo.\n",
              "7169          Talking Santa - Video santa claus calls you\n",
              "7170                                            CTFxCmoji\n",
              "7171                      Room Escape Game - Santa's Room\n",
              "7172                                 Rescue the Enchanter\n",
              "7173                                   My Diary - 你的名字非官方\n",
              "7174    VR Thrills: Roller Coaster 360 (Google Cardboard)\n",
              "7175     Santa Kids Hair Salon - Christmas Makeover Games\n",
              "7176                                   Human Juggling Cup\n",
              "7177                             Again - room escape game\n",
              "7178                                    Saloons Unleashed\n",
              "7179               Fam — Group video calling for iMessage\n",
              "7180                     Laurie Hernandez the Human Emoji\n",
              "7181                                                 剑倚手游\n",
              "7182                                    camera for filter\n",
              "7183                                      Survivalcraft 2\n",
              "7184                                      剑客情缘-高爆率高掉落天天疯玩\n",
              "7185                                       问仙奇遇-新玩法新套装嗨到爆\n",
              "7186                   脱出ゲーム - 書道教室 -  \"漢字\"の謎に満ちた部屋からの 脱出\n",
              "7187                            Escape Game: illumination\n",
              "7188         Demolition Derby Virtual Reality (VR) Racing\n",
              "7189                           飞刀传奇-动作武侠热血江湖即时PK传奇（登录爆金装）\n",
              "7190                         Add-Ons Studio for Minecraft\n",
              "7191                           Plead the Fifth - The Game\n",
              "7192                                                Kubik\n",
              "7193                                    VR Roller-Coaster\n",
              "7194                Bret Michaels Emojis + Lyric Keyboard\n",
              "7195            VR Roller Coaster World - Virtual Reality\n",
              "7196                         Escape the Sweet Shop Series\n",
              "Name: track_name, Length: 7197, dtype: object"
            ]
          },
          "metadata": {
            "tags": []
          },
          "execution_count": 11
        }
      ]
    },
    {
      "cell_type": "code",
      "metadata": {
        "id": "eoaHTwwYx2_1",
        "colab_type": "code",
        "outputId": "0a1d1c76-631d-4202-a5b6-8f21fed62ebf",
        "colab": {
          "base_uri": "https://localhost:8080/",
          "height": 34
        }
      },
      "source": [
        "type(data['track_name'])"
      ],
      "execution_count": 12,
      "outputs": [
        {
          "output_type": "execute_result",
          "data": {
            "text/plain": [
              "pandas.core.series.Series"
            ]
          },
          "metadata": {
            "tags": []
          },
          "execution_count": 12
        }
      ]
    },
    {
      "cell_type": "code",
      "metadata": {
        "id": "LgQZj5qDx3AB",
        "colab_type": "code",
        "outputId": "a913c88f-eed1-4181-e6bd-8fada534e445",
        "colab": {
          "base_uri": "https://localhost:8080/",
          "height": 34
        }
      },
      "source": [
        "data['track_name'][0]"
      ],
      "execution_count": 13,
      "outputs": [
        {
          "output_type": "execute_result",
          "data": {
            "text/plain": [
              "'PAC-MAN Premium'"
            ]
          },
          "metadata": {
            "tags": []
          },
          "execution_count": 13
        }
      ]
    },
    {
      "cell_type": "markdown",
      "metadata": {
        "id": "ncuWnfz5x3AL",
        "colab_type": "text"
      },
      "source": [
        "`pandas.core.series.Series` -- это тип подвыборки датафрейма. С этим типом работают реже, но стоит знать, что он есть."
      ]
    },
    {
      "cell_type": "markdown",
      "metadata": {
        "id": "jz1BApRUx3AN",
        "colab_type": "text"
      },
      "source": [
        "* Получить определённую строку:"
      ]
    },
    {
      "cell_type": "code",
      "metadata": {
        "id": "cBMpxJ1Ix3AO",
        "colab_type": "code",
        "outputId": "fa3c71b6-bf25-40bf-fc73-f60aeedc2523",
        "colab": {
          "base_uri": "https://localhost:8080/",
          "height": 323
        }
      },
      "source": [
        "data.iloc[10]"
      ],
      "execution_count": 14,
      "outputs": [
        {
          "output_type": "execute_result",
          "data": {
            "text/plain": [
              "Unnamed: 0                                 11\n",
              "id                                  284791396\n",
              "track_name          Solitaire by MobilityWare\n",
              "size_bytes                           49618944\n",
              "currency                                  USD\n",
              "price                                    4.99\n",
              "rating_count_tot                        76720\n",
              "rating_count_ver                         4017\n",
              "user_rating                               4.5\n",
              "user_rating_ver                           4.5\n",
              "ver                                    4.10.1\n",
              "cont_rating                                4+\n",
              "prime_genre                             Games\n",
              "sup_devices.num                            38\n",
              "ipadSc_urls.num                             4\n",
              "lang.num                                   11\n",
              "vpp_lic                                     1\n",
              "Name: 10, dtype: object"
            ]
          },
          "metadata": {
            "tags": []
          },
          "execution_count": 14
        }
      ]
    },
    {
      "cell_type": "markdown",
      "metadata": {
        "id": "YxzZpgVgx3AZ",
        "colab_type": "text"
      },
      "source": [
        "Более продвинутое и полезное индексирование:"
      ]
    },
    {
      "cell_type": "code",
      "metadata": {
        "id": "cuGSfCpxx3Aa",
        "colab_type": "code",
        "outputId": "f98fff4e-fd11-4c2f-c52a-d377c7b396e6",
        "colab": {
          "base_uri": "https://localhost:8080/",
          "height": 34
        }
      },
      "source": [
        "data.iloc[5, 10]"
      ],
      "execution_count": 15,
      "outputs": [
        {
          "output_type": "execute_result",
          "data": {
            "text/plain": [
              "'1.8'"
            ]
          },
          "metadata": {
            "tags": []
          },
          "execution_count": 15
        }
      ]
    },
    {
      "cell_type": "markdown",
      "metadata": {
        "id": "TYPRT7vEx3Ak",
        "colab_type": "text"
      },
      "source": [
        "-- `data.iloc[i, j]`, где `i` -- номер строки, `j` -- номер столбца"
      ]
    },
    {
      "cell_type": "markdown",
      "metadata": {
        "id": "MScZ8Pu8x3Am",
        "colab_type": "text"
      },
      "source": [
        "Почти все типы индексирования:"
      ]
    },
    {
      "cell_type": "markdown",
      "metadata": {
        "id": "kB2KKuM9x3An",
        "colab_type": "text"
      },
      "source": [
        "* к строкам по числовому индексу, к столбцам -- по имени"
      ]
    },
    {
      "cell_type": "code",
      "metadata": {
        "id": "uxbmAiyCx3Ao",
        "colab_type": "code",
        "outputId": "7180b81b-cc8b-4e79-8987-f1f7a028a305",
        "colab": {
          "base_uri": "https://localhost:8080/",
          "height": 142
        }
      },
      "source": [
        "data.loc[[0, 1, 2], ['track_name', 'id']]"
      ],
      "execution_count": 16,
      "outputs": [
        {
          "output_type": "execute_result",
          "data": {
            "text/html": [
              "<div>\n",
              "<style scoped>\n",
              "    .dataframe tbody tr th:only-of-type {\n",
              "        vertical-align: middle;\n",
              "    }\n",
              "\n",
              "    .dataframe tbody tr th {\n",
              "        vertical-align: top;\n",
              "    }\n",
              "\n",
              "    .dataframe thead th {\n",
              "        text-align: right;\n",
              "    }\n",
              "</style>\n",
              "<table border=\"1\" class=\"dataframe\">\n",
              "  <thead>\n",
              "    <tr style=\"text-align: right;\">\n",
              "      <th></th>\n",
              "      <th>track_name</th>\n",
              "      <th>id</th>\n",
              "    </tr>\n",
              "  </thead>\n",
              "  <tbody>\n",
              "    <tr>\n",
              "      <th>0</th>\n",
              "      <td>PAC-MAN Premium</td>\n",
              "      <td>281656475</td>\n",
              "    </tr>\n",
              "    <tr>\n",
              "      <th>1</th>\n",
              "      <td>Evernote - stay organized</td>\n",
              "      <td>281796108</td>\n",
              "    </tr>\n",
              "    <tr>\n",
              "      <th>2</th>\n",
              "      <td>WeatherBug - Local Weather, Radar, Maps, Alerts</td>\n",
              "      <td>281940292</td>\n",
              "    </tr>\n",
              "  </tbody>\n",
              "</table>\n",
              "</div>"
            ],
            "text/plain": [
              "                                        track_name         id\n",
              "0                                  PAC-MAN Premium  281656475\n",
              "1                        Evernote - stay organized  281796108\n",
              "2  WeatherBug - Local Weather, Radar, Maps, Alerts  281940292"
            ]
          },
          "metadata": {
            "tags": []
          },
          "execution_count": 16
        }
      ]
    },
    {
      "cell_type": "markdown",
      "metadata": {
        "id": "jdy5bzNMx3Av",
        "colab_type": "text"
      },
      "source": [
        "* к строкам и к столбцам по числовому индексу"
      ]
    },
    {
      "cell_type": "code",
      "metadata": {
        "id": "RSgfrL-ix3Ax",
        "colab_type": "code",
        "outputId": "b15eed3c-3b11-4446-9e81-31a7974cbc2d",
        "colab": {
          "base_uri": "https://localhost:8080/",
          "height": 142
        }
      },
      "source": [
        "data.iloc[[1, 3, 5], [2, 1]]"
      ],
      "execution_count": 17,
      "outputs": [
        {
          "output_type": "execute_result",
          "data": {
            "text/html": [
              "<div>\n",
              "<style scoped>\n",
              "    .dataframe tbody tr th:only-of-type {\n",
              "        vertical-align: middle;\n",
              "    }\n",
              "\n",
              "    .dataframe tbody tr th {\n",
              "        vertical-align: top;\n",
              "    }\n",
              "\n",
              "    .dataframe thead th {\n",
              "        text-align: right;\n",
              "    }\n",
              "</style>\n",
              "<table border=\"1\" class=\"dataframe\">\n",
              "  <thead>\n",
              "    <tr style=\"text-align: right;\">\n",
              "      <th></th>\n",
              "      <th>track_name</th>\n",
              "      <th>id</th>\n",
              "    </tr>\n",
              "  </thead>\n",
              "  <tbody>\n",
              "    <tr>\n",
              "      <th>1</th>\n",
              "      <td>Evernote - stay organized</td>\n",
              "      <td>281796108</td>\n",
              "    </tr>\n",
              "    <tr>\n",
              "      <th>3</th>\n",
              "      <td>eBay: Best App to Buy, Sell, Save! Online Shop...</td>\n",
              "      <td>282614216</td>\n",
              "    </tr>\n",
              "    <tr>\n",
              "      <th>5</th>\n",
              "      <td>Shanghai Mahjong</td>\n",
              "      <td>283619399</td>\n",
              "    </tr>\n",
              "  </tbody>\n",
              "</table>\n",
              "</div>"
            ],
            "text/plain": [
              "                                          track_name         id\n",
              "1                          Evernote - stay organized  281796108\n",
              "3  eBay: Best App to Buy, Sell, Save! Online Shop...  282614216\n",
              "5                                   Shanghai Mahjong  283619399"
            ]
          },
          "metadata": {
            "tags": []
          },
          "execution_count": 17
        }
      ]
    },
    {
      "cell_type": "markdown",
      "metadata": {
        "id": "0JP-la42x3A3",
        "colab_type": "text"
      },
      "source": [
        "* поддерживает и то, и то, но **запрещён**:"
      ]
    },
    {
      "cell_type": "code",
      "metadata": {
        "id": "BX9zL6ofx3A6",
        "colab_type": "code",
        "outputId": "a7b78d40-9e3b-4996-dd26-2359d4482aa2",
        "colab": {
          "base_uri": "https://localhost:8080/",
          "height": 278
        }
      },
      "source": [
        "data.ix[[2,1,0], ['track_name', 'id']]"
      ],
      "execution_count": 18,
      "outputs": [
        {
          "output_type": "stream",
          "text": [
            "/usr/local/lib/python3.6/dist-packages/ipykernel_launcher.py:1: DeprecationWarning: \n",
            ".ix is deprecated. Please use\n",
            ".loc for label based indexing or\n",
            ".iloc for positional indexing\n",
            "\n",
            "See the documentation here:\n",
            "http://pandas.pydata.org/pandas-docs/stable/indexing.html#ix-indexer-is-deprecated\n",
            "  \"\"\"Entry point for launching an IPython kernel.\n"
          ],
          "name": "stderr"
        },
        {
          "output_type": "execute_result",
          "data": {
            "text/html": [
              "<div>\n",
              "<style scoped>\n",
              "    .dataframe tbody tr th:only-of-type {\n",
              "        vertical-align: middle;\n",
              "    }\n",
              "\n",
              "    .dataframe tbody tr th {\n",
              "        vertical-align: top;\n",
              "    }\n",
              "\n",
              "    .dataframe thead th {\n",
              "        text-align: right;\n",
              "    }\n",
              "</style>\n",
              "<table border=\"1\" class=\"dataframe\">\n",
              "  <thead>\n",
              "    <tr style=\"text-align: right;\">\n",
              "      <th></th>\n",
              "      <th>track_name</th>\n",
              "      <th>id</th>\n",
              "    </tr>\n",
              "  </thead>\n",
              "  <tbody>\n",
              "    <tr>\n",
              "      <th>2</th>\n",
              "      <td>WeatherBug - Local Weather, Radar, Maps, Alerts</td>\n",
              "      <td>281940292</td>\n",
              "    </tr>\n",
              "    <tr>\n",
              "      <th>1</th>\n",
              "      <td>Evernote - stay organized</td>\n",
              "      <td>281796108</td>\n",
              "    </tr>\n",
              "    <tr>\n",
              "      <th>0</th>\n",
              "      <td>PAC-MAN Premium</td>\n",
              "      <td>281656475</td>\n",
              "    </tr>\n",
              "  </tbody>\n",
              "</table>\n",
              "</div>"
            ],
            "text/plain": [
              "                                        track_name         id\n",
              "2  WeatherBug - Local Weather, Radar, Maps, Alerts  281940292\n",
              "1                        Evernote - stay organized  281796108\n",
              "0                                  PAC-MAN Premium  281656475"
            ]
          },
          "metadata": {
            "tags": []
          },
          "execution_count": 18
        }
      ]
    },
    {
      "cell_type": "code",
      "metadata": {
        "id": "Ok4Mkf06x3By",
        "colab_type": "code",
        "outputId": "7fd0ce52-757e-4022-f508-90f08a1aecaf",
        "colab": {
          "base_uri": "https://localhost:8080/",
          "height": 278
        }
      },
      "source": [
        "data.ix[[0,1,2], [2, 1]]"
      ],
      "execution_count": 19,
      "outputs": [
        {
          "output_type": "stream",
          "text": [
            "/usr/local/lib/python3.6/dist-packages/ipykernel_launcher.py:1: DeprecationWarning: \n",
            ".ix is deprecated. Please use\n",
            ".loc for label based indexing or\n",
            ".iloc for positional indexing\n",
            "\n",
            "See the documentation here:\n",
            "http://pandas.pydata.org/pandas-docs/stable/indexing.html#ix-indexer-is-deprecated\n",
            "  \"\"\"Entry point for launching an IPython kernel.\n"
          ],
          "name": "stderr"
        },
        {
          "output_type": "execute_result",
          "data": {
            "text/html": [
              "<div>\n",
              "<style scoped>\n",
              "    .dataframe tbody tr th:only-of-type {\n",
              "        vertical-align: middle;\n",
              "    }\n",
              "\n",
              "    .dataframe tbody tr th {\n",
              "        vertical-align: top;\n",
              "    }\n",
              "\n",
              "    .dataframe thead th {\n",
              "        text-align: right;\n",
              "    }\n",
              "</style>\n",
              "<table border=\"1\" class=\"dataframe\">\n",
              "  <thead>\n",
              "    <tr style=\"text-align: right;\">\n",
              "      <th></th>\n",
              "      <th>track_name</th>\n",
              "      <th>id</th>\n",
              "    </tr>\n",
              "  </thead>\n",
              "  <tbody>\n",
              "    <tr>\n",
              "      <th>0</th>\n",
              "      <td>PAC-MAN Premium</td>\n",
              "      <td>281656475</td>\n",
              "    </tr>\n",
              "    <tr>\n",
              "      <th>1</th>\n",
              "      <td>Evernote - stay organized</td>\n",
              "      <td>281796108</td>\n",
              "    </tr>\n",
              "    <tr>\n",
              "      <th>2</th>\n",
              "      <td>WeatherBug - Local Weather, Radar, Maps, Alerts</td>\n",
              "      <td>281940292</td>\n",
              "    </tr>\n",
              "  </tbody>\n",
              "</table>\n",
              "</div>"
            ],
            "text/plain": [
              "                                        track_name         id\n",
              "0                                  PAC-MAN Premium  281656475\n",
              "1                        Evernote - stay organized  281796108\n",
              "2  WeatherBug - Local Weather, Radar, Maps, Alerts  281940292"
            ]
          },
          "metadata": {
            "tags": []
          },
          "execution_count": 19
        }
      ]
    },
    {
      "cell_type": "markdown",
      "metadata": {
        "id": "cQwRaj73x3CJ",
        "colab_type": "text"
      },
      "source": [
        "Точно также дело обстоит со **срезами**:"
      ]
    },
    {
      "cell_type": "code",
      "metadata": {
        "scrolled": true,
        "id": "B_Z_82c2x3CK",
        "colab_type": "code",
        "outputId": "cc52e10a-4630-4399-b750-d160995cf1de",
        "colab": {
          "base_uri": "https://localhost:8080/",
          "height": 1000
        }
      },
      "source": [
        "data.iloc[5:100, 0:5]"
      ],
      "execution_count": 20,
      "outputs": [
        {
          "output_type": "execute_result",
          "data": {
            "text/html": [
              "<div>\n",
              "<style scoped>\n",
              "    .dataframe tbody tr th:only-of-type {\n",
              "        vertical-align: middle;\n",
              "    }\n",
              "\n",
              "    .dataframe tbody tr th {\n",
              "        vertical-align: top;\n",
              "    }\n",
              "\n",
              "    .dataframe thead th {\n",
              "        text-align: right;\n",
              "    }\n",
              "</style>\n",
              "<table border=\"1\" class=\"dataframe\">\n",
              "  <thead>\n",
              "    <tr style=\"text-align: right;\">\n",
              "      <th></th>\n",
              "      <th>Unnamed: 0</th>\n",
              "      <th>id</th>\n",
              "      <th>track_name</th>\n",
              "      <th>size_bytes</th>\n",
              "      <th>currency</th>\n",
              "    </tr>\n",
              "  </thead>\n",
              "  <tbody>\n",
              "    <tr>\n",
              "      <th>5</th>\n",
              "      <td>6</td>\n",
              "      <td>283619399</td>\n",
              "      <td>Shanghai Mahjong</td>\n",
              "      <td>10485713</td>\n",
              "      <td>USD</td>\n",
              "    </tr>\n",
              "    <tr>\n",
              "      <th>6</th>\n",
              "      <td>7</td>\n",
              "      <td>283646709</td>\n",
              "      <td>PayPal - Send and request money safely</td>\n",
              "      <td>227795968</td>\n",
              "      <td>USD</td>\n",
              "    </tr>\n",
              "    <tr>\n",
              "      <th>7</th>\n",
              "      <td>8</td>\n",
              "      <td>284035177</td>\n",
              "      <td>Pandora - Music &amp; Radio</td>\n",
              "      <td>130242560</td>\n",
              "      <td>USD</td>\n",
              "    </tr>\n",
              "    <tr>\n",
              "      <th>8</th>\n",
              "      <td>9</td>\n",
              "      <td>284666222</td>\n",
              "      <td>PCalc - The Best Calculator</td>\n",
              "      <td>49250304</td>\n",
              "      <td>USD</td>\n",
              "    </tr>\n",
              "    <tr>\n",
              "      <th>9</th>\n",
              "      <td>10</td>\n",
              "      <td>284736660</td>\n",
              "      <td>Ms. PAC-MAN</td>\n",
              "      <td>70023168</td>\n",
              "      <td>USD</td>\n",
              "    </tr>\n",
              "    <tr>\n",
              "      <th>10</th>\n",
              "      <td>11</td>\n",
              "      <td>284791396</td>\n",
              "      <td>Solitaire by MobilityWare</td>\n",
              "      <td>49618944</td>\n",
              "      <td>USD</td>\n",
              "    </tr>\n",
              "    <tr>\n",
              "      <th>11</th>\n",
              "      <td>12</td>\n",
              "      <td>284815117</td>\n",
              "      <td>SCRABBLE Premium</td>\n",
              "      <td>227547136</td>\n",
              "      <td>USD</td>\n",
              "    </tr>\n",
              "    <tr>\n",
              "      <th>12</th>\n",
              "      <td>13</td>\n",
              "      <td>284815942</td>\n",
              "      <td>Google – Search made just for mobile</td>\n",
              "      <td>179979264</td>\n",
              "      <td>USD</td>\n",
              "    </tr>\n",
              "    <tr>\n",
              "      <th>13</th>\n",
              "      <td>14</td>\n",
              "      <td>284847138</td>\n",
              "      <td>Bank of America - Mobile Banking</td>\n",
              "      <td>160925696</td>\n",
              "      <td>USD</td>\n",
              "    </tr>\n",
              "    <tr>\n",
              "      <th>14</th>\n",
              "      <td>15</td>\n",
              "      <td>284862767</td>\n",
              "      <td>FreeCell</td>\n",
              "      <td>55153664</td>\n",
              "      <td>USD</td>\n",
              "    </tr>\n",
              "    <tr>\n",
              "      <th>15</th>\n",
              "      <td>16</td>\n",
              "      <td>284876795</td>\n",
              "      <td>TripAdvisor Hotels Flights Restaurants</td>\n",
              "      <td>207907840</td>\n",
              "      <td>USD</td>\n",
              "    </tr>\n",
              "    <tr>\n",
              "      <th>16</th>\n",
              "      <td>17</td>\n",
              "      <td>284882215</td>\n",
              "      <td>Facebook</td>\n",
              "      <td>389879808</td>\n",
              "      <td>USD</td>\n",
              "    </tr>\n",
              "    <tr>\n",
              "      <th>17</th>\n",
              "      <td>18</td>\n",
              "      <td>284910350</td>\n",
              "      <td>Yelp - Nearby Restaurants, Shopping &amp; Services</td>\n",
              "      <td>167407616</td>\n",
              "      <td>USD</td>\n",
              "    </tr>\n",
              "    <tr>\n",
              "      <th>18</th>\n",
              "      <td>20</td>\n",
              "      <td>284993459</td>\n",
              "      <td>Shazam - Discover music, artists, videos &amp; lyrics</td>\n",
              "      <td>147093504</td>\n",
              "      <td>USD</td>\n",
              "    </tr>\n",
              "    <tr>\n",
              "      <th>19</th>\n",
              "      <td>21</td>\n",
              "      <td>285005463</td>\n",
              "      <td>Crash Bandicoot Nitro Kart 3D</td>\n",
              "      <td>10735026</td>\n",
              "      <td>USD</td>\n",
              "    </tr>\n",
              "    <tr>\n",
              "      <th>20</th>\n",
              "      <td>22</td>\n",
              "      <td>285946052</td>\n",
              "      <td>iQuran</td>\n",
              "      <td>70707916</td>\n",
              "      <td>USD</td>\n",
              "    </tr>\n",
              "    <tr>\n",
              "      <th>21</th>\n",
              "      <td>23</td>\n",
              "      <td>285994151</td>\n",
              "      <td>:) Sudoku +</td>\n",
              "      <td>6169600</td>\n",
              "      <td>USD</td>\n",
              "    </tr>\n",
              "    <tr>\n",
              "      <th>22</th>\n",
              "      <td>24</td>\n",
              "      <td>286058814</td>\n",
              "      <td>Yahoo Sports - Teams, Scores, News &amp; Highlights</td>\n",
              "      <td>130583552</td>\n",
              "      <td>USD</td>\n",
              "    </tr>\n",
              "    <tr>\n",
              "      <th>23</th>\n",
              "      <td>25</td>\n",
              "      <td>286070473</td>\n",
              "      <td>Mileage Log | Fahrtenbuch</td>\n",
              "      <td>71203840</td>\n",
              "      <td>USD</td>\n",
              "    </tr>\n",
              "    <tr>\n",
              "      <th>24</th>\n",
              "      <td>27</td>\n",
              "      <td>286799607</td>\n",
              "      <td>Cleartune - Chromatic Tuner</td>\n",
              "      <td>11423008</td>\n",
              "      <td>USD</td>\n",
              "    </tr>\n",
              "    <tr>\n",
              "      <th>25</th>\n",
              "      <td>28</td>\n",
              "      <td>286906691</td>\n",
              "      <td>Lifesum – Inspiring healthy lifestyle app</td>\n",
              "      <td>188017664</td>\n",
              "      <td>USD</td>\n",
              "    </tr>\n",
              "    <tr>\n",
              "      <th>26</th>\n",
              "      <td>29</td>\n",
              "      <td>286911400</td>\n",
              "      <td>Hangman.</td>\n",
              "      <td>4765696</td>\n",
              "      <td>USD</td>\n",
              "    </tr>\n",
              "    <tr>\n",
              "      <th>27</th>\n",
              "      <td>31</td>\n",
              "      <td>288113403</td>\n",
              "      <td>iTranslate - Language Translator &amp; Dictionary</td>\n",
              "      <td>287933440</td>\n",
              "      <td>USD</td>\n",
              "    </tr>\n",
              "    <tr>\n",
              "      <th>28</th>\n",
              "      <td>32</td>\n",
              "      <td>288120394</td>\n",
              "      <td>TouchOSC</td>\n",
              "      <td>4263936</td>\n",
              "      <td>USD</td>\n",
              "    </tr>\n",
              "    <tr>\n",
              "      <th>29</th>\n",
              "      <td>33</td>\n",
              "      <td>288419283</td>\n",
              "      <td>RadarScope</td>\n",
              "      <td>172772352</td>\n",
              "      <td>USD</td>\n",
              "    </tr>\n",
              "    <tr>\n",
              "      <th>30</th>\n",
              "      <td>34</td>\n",
              "      <td>288429040</td>\n",
              "      <td>LinkedIn</td>\n",
              "      <td>273844224</td>\n",
              "      <td>USD</td>\n",
              "    </tr>\n",
              "    <tr>\n",
              "      <th>31</th>\n",
              "      <td>35</td>\n",
              "      <td>289084315</td>\n",
              "      <td>Period Tracker Deluxe</td>\n",
              "      <td>40216576</td>\n",
              "      <td>USD</td>\n",
              "    </tr>\n",
              "    <tr>\n",
              "      <th>32</th>\n",
              "      <td>36</td>\n",
              "      <td>289446241</td>\n",
              "      <td>Election 2016 Map</td>\n",
              "      <td>2386944</td>\n",
              "      <td>USD</td>\n",
              "    </tr>\n",
              "    <tr>\n",
              "      <th>33</th>\n",
              "      <td>37</td>\n",
              "      <td>289523017</td>\n",
              "      <td>Blackjack by MobilityWare</td>\n",
              "      <td>105431040</td>\n",
              "      <td>USD</td>\n",
              "    </tr>\n",
              "    <tr>\n",
              "      <th>34</th>\n",
              "      <td>39</td>\n",
              "      <td>289894882</td>\n",
              "      <td>White Noise</td>\n",
              "      <td>44129280</td>\n",
              "      <td>USD</td>\n",
              "    </tr>\n",
              "    <tr>\n",
              "      <th>...</th>\n",
              "      <td>...</td>\n",
              "      <td>...</td>\n",
              "      <td>...</td>\n",
              "      <td>...</td>\n",
              "      <td>...</td>\n",
              "    </tr>\n",
              "    <tr>\n",
              "      <th>70</th>\n",
              "      <td>80</td>\n",
              "      <td>299853944</td>\n",
              "      <td>新浪新闻-阅读最新时事热门头条资讯视频</td>\n",
              "      <td>115143680</td>\n",
              "      <td>USD</td>\n",
              "    </tr>\n",
              "    <tr>\n",
              "      <th>71</th>\n",
              "      <td>81</td>\n",
              "      <td>299949744</td>\n",
              "      <td>MotionX GPS</td>\n",
              "      <td>56481792</td>\n",
              "      <td>USD</td>\n",
              "    </tr>\n",
              "    <tr>\n",
              "      <th>72</th>\n",
              "      <td>82</td>\n",
              "      <td>300048137</td>\n",
              "      <td>AccuWeather - Weather for Life</td>\n",
              "      <td>181941248</td>\n",
              "      <td>USD</td>\n",
              "    </tr>\n",
              "    <tr>\n",
              "      <th>73</th>\n",
              "      <td>83</td>\n",
              "      <td>300238550</td>\n",
              "      <td>Mint: Personal Finance, Budget, Bills &amp; Money</td>\n",
              "      <td>162891776</td>\n",
              "      <td>USD</td>\n",
              "    </tr>\n",
              "    <tr>\n",
              "      <th>74</th>\n",
              "      <td>84</td>\n",
              "      <td>300255638</td>\n",
              "      <td>ABC News - US &amp; World News + Live Video</td>\n",
              "      <td>98108416</td>\n",
              "      <td>USD</td>\n",
              "    </tr>\n",
              "    <tr>\n",
              "      <th>75</th>\n",
              "      <td>85</td>\n",
              "      <td>300265786</td>\n",
              "      <td>Rowmote: Remote Control for Mac</td>\n",
              "      <td>54088704</td>\n",
              "      <td>USD</td>\n",
              "    </tr>\n",
              "    <tr>\n",
              "      <th>76</th>\n",
              "      <td>86</td>\n",
              "      <td>300590611</td>\n",
              "      <td>Peekaboo Barn</td>\n",
              "      <td>50155520</td>\n",
              "      <td>USD</td>\n",
              "    </tr>\n",
              "    <tr>\n",
              "      <th>77</th>\n",
              "      <td>87</td>\n",
              "      <td>300704847</td>\n",
              "      <td>Speedtest by Ookla</td>\n",
              "      <td>23936000</td>\n",
              "      <td>USD</td>\n",
              "    </tr>\n",
              "    <tr>\n",
              "      <th>78</th>\n",
              "      <td>89</td>\n",
              "      <td>301387274</td>\n",
              "      <td>Pocket God</td>\n",
              "      <td>145293312</td>\n",
              "      <td>USD</td>\n",
              "    </tr>\n",
              "    <tr>\n",
              "      <th>79</th>\n",
              "      <td>90</td>\n",
              "      <td>301521403</td>\n",
              "      <td>Nike+ Training Club - Workouts &amp; Fitness Plans</td>\n",
              "      <td>140367872</td>\n",
              "      <td>USD</td>\n",
              "    </tr>\n",
              "    <tr>\n",
              "      <th>80</th>\n",
              "      <td>91</td>\n",
              "      <td>301724680</td>\n",
              "      <td>Citi Mobile®</td>\n",
              "      <td>281244672</td>\n",
              "      <td>USD</td>\n",
              "    </tr>\n",
              "    <tr>\n",
              "      <th>81</th>\n",
              "      <td>92</td>\n",
              "      <td>302049354</td>\n",
              "      <td>Phase 10 Pro - Play Your Friends!</td>\n",
              "      <td>66695168</td>\n",
              "      <td>USD</td>\n",
              "    </tr>\n",
              "    <tr>\n",
              "      <th>82</th>\n",
              "      <td>93</td>\n",
              "      <td>302584613</td>\n",
              "      <td>Kindle – Read eBooks, Magazines &amp; Textbooks</td>\n",
              "      <td>169747456</td>\n",
              "      <td>USD</td>\n",
              "    </tr>\n",
              "    <tr>\n",
              "      <th>83</th>\n",
              "      <td>95</td>\n",
              "      <td>303058767</td>\n",
              "      <td>MASH</td>\n",
              "      <td>41691136</td>\n",
              "      <td>USD</td>\n",
              "    </tr>\n",
              "    <tr>\n",
              "      <th>84</th>\n",
              "      <td>96</td>\n",
              "      <td>303191318</td>\n",
              "      <td>同花顺-炒股、股票</td>\n",
              "      <td>122886144</td>\n",
              "      <td>USD</td>\n",
              "    </tr>\n",
              "    <tr>\n",
              "      <th>85</th>\n",
              "      <td>97</td>\n",
              "      <td>303337299</td>\n",
              "      <td>Wedding Dash Deluxe</td>\n",
              "      <td>55803904</td>\n",
              "      <td>USD</td>\n",
              "    </tr>\n",
              "    <tr>\n",
              "      <th>86</th>\n",
              "      <td>99</td>\n",
              "      <td>303849934</td>\n",
              "      <td>Beer Pong Game</td>\n",
              "      <td>188956672</td>\n",
              "      <td>USD</td>\n",
              "    </tr>\n",
              "    <tr>\n",
              "      <th>87</th>\n",
              "      <td>100</td>\n",
              "      <td>304731501</td>\n",
              "      <td>Tempo - Metronome with Setlists</td>\n",
              "      <td>22185984</td>\n",
              "      <td>USD</td>\n",
              "    </tr>\n",
              "    <tr>\n",
              "      <th>88</th>\n",
              "      <td>101</td>\n",
              "      <td>304770340</td>\n",
              "      <td>Skat</td>\n",
              "      <td>66160640</td>\n",
              "      <td>USD</td>\n",
              "    </tr>\n",
              "    <tr>\n",
              "      <th>89</th>\n",
              "      <td>102</td>\n",
              "      <td>304871603</td>\n",
              "      <td>Color Splash</td>\n",
              "      <td>28135424</td>\n",
              "      <td>USD</td>\n",
              "    </tr>\n",
              "    <tr>\n",
              "      <th>90</th>\n",
              "      <td>103</td>\n",
              "      <td>304871622</td>\n",
              "      <td>Zombieville USA</td>\n",
              "      <td>27962441</td>\n",
              "      <td>USD</td>\n",
              "    </tr>\n",
              "    <tr>\n",
              "      <th>91</th>\n",
              "      <td>104</td>\n",
              "      <td>304878510</td>\n",
              "      <td>Skype for iPhone</td>\n",
              "      <td>133238784</td>\n",
              "      <td>USD</td>\n",
              "    </tr>\n",
              "    <tr>\n",
              "      <th>92</th>\n",
              "      <td>105</td>\n",
              "      <td>305343404</td>\n",
              "      <td>Tumblr</td>\n",
              "      <td>151573504</td>\n",
              "      <td>USD</td>\n",
              "    </tr>\n",
              "    <tr>\n",
              "      <th>93</th>\n",
              "      <td>106</td>\n",
              "      <td>305557780</td>\n",
              "      <td>iSwap Faces</td>\n",
              "      <td>27069440</td>\n",
              "      <td>USD</td>\n",
              "    </tr>\n",
              "    <tr>\n",
              "      <th>94</th>\n",
              "      <td>107</td>\n",
              "      <td>305939712</td>\n",
              "      <td>Match™ - #1 Dating App.</td>\n",
              "      <td>101259264</td>\n",
              "      <td>USD</td>\n",
              "    </tr>\n",
              "    <tr>\n",
              "      <th>95</th>\n",
              "      <td>108</td>\n",
              "      <td>306169895</td>\n",
              "      <td>Tozzle - Toddler's favorite puzzle</td>\n",
              "      <td>168192000</td>\n",
              "      <td>USD</td>\n",
              "    </tr>\n",
              "    <tr>\n",
              "      <th>96</th>\n",
              "      <td>109</td>\n",
              "      <td>306257910</td>\n",
              "      <td>HomeBudget with Sync</td>\n",
              "      <td>17485824</td>\n",
              "      <td>USD</td>\n",
              "    </tr>\n",
              "    <tr>\n",
              "      <th>97</th>\n",
              "      <td>110</td>\n",
              "      <td>306375551</td>\n",
              "      <td>Wind Meter</td>\n",
              "      <td>5234688</td>\n",
              "      <td>USD</td>\n",
              "    </tr>\n",
              "    <tr>\n",
              "      <th>98</th>\n",
              "      <td>111</td>\n",
              "      <td>306468004</td>\n",
              "      <td>Map My Run+ - GPS Running &amp; Workout Tracker</td>\n",
              "      <td>237913088</td>\n",
              "      <td>USD</td>\n",
              "    </tr>\n",
              "    <tr>\n",
              "      <th>99</th>\n",
              "      <td>112</td>\n",
              "      <td>306561234</td>\n",
              "      <td>Map My Ride+ - GPS Cycling &amp; Route Tracker</td>\n",
              "      <td>233513984</td>\n",
              "      <td>USD</td>\n",
              "    </tr>\n",
              "  </tbody>\n",
              "</table>\n",
              "<p>95 rows × 5 columns</p>\n",
              "</div>"
            ],
            "text/plain": [
              "    Unnamed: 0         id  ... size_bytes  currency\n",
              "5            6  283619399  ...   10485713       USD\n",
              "6            7  283646709  ...  227795968       USD\n",
              "7            8  284035177  ...  130242560       USD\n",
              "8            9  284666222  ...   49250304       USD\n",
              "9           10  284736660  ...   70023168       USD\n",
              "10          11  284791396  ...   49618944       USD\n",
              "11          12  284815117  ...  227547136       USD\n",
              "12          13  284815942  ...  179979264       USD\n",
              "13          14  284847138  ...  160925696       USD\n",
              "14          15  284862767  ...   55153664       USD\n",
              "15          16  284876795  ...  207907840       USD\n",
              "16          17  284882215  ...  389879808       USD\n",
              "17          18  284910350  ...  167407616       USD\n",
              "18          20  284993459  ...  147093504       USD\n",
              "19          21  285005463  ...   10735026       USD\n",
              "20          22  285946052  ...   70707916       USD\n",
              "21          23  285994151  ...    6169600       USD\n",
              "22          24  286058814  ...  130583552       USD\n",
              "23          25  286070473  ...   71203840       USD\n",
              "24          27  286799607  ...   11423008       USD\n",
              "25          28  286906691  ...  188017664       USD\n",
              "26          29  286911400  ...    4765696       USD\n",
              "27          31  288113403  ...  287933440       USD\n",
              "28          32  288120394  ...    4263936       USD\n",
              "29          33  288419283  ...  172772352       USD\n",
              "30          34  288429040  ...  273844224       USD\n",
              "31          35  289084315  ...   40216576       USD\n",
              "32          36  289446241  ...    2386944       USD\n",
              "33          37  289523017  ...  105431040       USD\n",
              "34          39  289894882  ...   44129280       USD\n",
              "..         ...        ...  ...        ...       ...\n",
              "70          80  299853944  ...  115143680       USD\n",
              "71          81  299949744  ...   56481792       USD\n",
              "72          82  300048137  ...  181941248       USD\n",
              "73          83  300238550  ...  162891776       USD\n",
              "74          84  300255638  ...   98108416       USD\n",
              "75          85  300265786  ...   54088704       USD\n",
              "76          86  300590611  ...   50155520       USD\n",
              "77          87  300704847  ...   23936000       USD\n",
              "78          89  301387274  ...  145293312       USD\n",
              "79          90  301521403  ...  140367872       USD\n",
              "80          91  301724680  ...  281244672       USD\n",
              "81          92  302049354  ...   66695168       USD\n",
              "82          93  302584613  ...  169747456       USD\n",
              "83          95  303058767  ...   41691136       USD\n",
              "84          96  303191318  ...  122886144       USD\n",
              "85          97  303337299  ...   55803904       USD\n",
              "86          99  303849934  ...  188956672       USD\n",
              "87         100  304731501  ...   22185984       USD\n",
              "88         101  304770340  ...   66160640       USD\n",
              "89         102  304871603  ...   28135424       USD\n",
              "90         103  304871622  ...   27962441       USD\n",
              "91         104  304878510  ...  133238784       USD\n",
              "92         105  305343404  ...  151573504       USD\n",
              "93         106  305557780  ...   27069440       USD\n",
              "94         107  305939712  ...  101259264       USD\n",
              "95         108  306169895  ...  168192000       USD\n",
              "96         109  306257910  ...   17485824       USD\n",
              "97         110  306375551  ...    5234688       USD\n",
              "98         111  306468004  ...  237913088       USD\n",
              "99         112  306561234  ...  233513984       USD\n",
              "\n",
              "[95 rows x 5 columns]"
            ]
          },
          "metadata": {
            "tags": []
          },
          "execution_count": 20
        }
      ]
    },
    {
      "cell_type": "markdown",
      "metadata": {
        "id": "uVsrvQewx3CP",
        "colab_type": "text"
      },
      "source": [
        "Но обычно нужно уметь отвечать на более осмысленные вопросы, например:"
      ]
    },
    {
      "cell_type": "markdown",
      "metadata": {
        "id": "hfnVW9Ylx3CQ",
        "colab_type": "text"
      },
      "source": [
        "* сколько приложений имеют рейтинг юзеров >= 4?"
      ]
    },
    {
      "cell_type": "code",
      "metadata": {
        "id": "DIIbkYCpx3CY",
        "colab_type": "code",
        "outputId": "256f58d6-34d6-4475-ca1d-cb8d53341294",
        "colab": {
          "base_uri": "https://localhost:8080/",
          "height": 34
        }
      },
      "source": [
        "len(data[data['user_rating'] >= 4])"
      ],
      "execution_count": 22,
      "outputs": [
        {
          "output_type": "execute_result",
          "data": {
            "text/plain": [
              "4781"
            ]
          },
          "metadata": {
            "tags": []
          },
          "execution_count": 22
        }
      ]
    },
    {
      "cell_type": "markdown",
      "metadata": {
        "id": "BGW7vGtlx3C6",
        "colab_type": "text"
      },
      "source": [
        "* какие есть валюты в столбце currency?"
      ]
    },
    {
      "cell_type": "code",
      "metadata": {
        "id": "UHUKE1Mix3C8",
        "colab_type": "code",
        "outputId": "d0ae41c9-36d0-41f9-bc5a-c4d68c27d0fd",
        "colab": {
          "base_uri": "https://localhost:8080/",
          "height": 34
        }
      },
      "source": [
        "import numpy as np\n",
        "np.unique(data['currency'])"
      ],
      "execution_count": 23,
      "outputs": [
        {
          "output_type": "execute_result",
          "data": {
            "text/plain": [
              "array(['USD'], dtype=object)"
            ]
          },
          "metadata": {
            "tags": []
          },
          "execution_count": 23
        }
      ]
    },
    {
      "cell_type": "markdown",
      "metadata": {
        "id": "rRFV48f5x3Ep",
        "colab_type": "text"
      },
      "source": [
        "* сколько приложений жанра Games? А тех, которые Games и рейтинг >= 4?"
      ]
    },
    {
      "cell_type": "code",
      "metadata": {
        "id": "MtdM4W11x3Eq",
        "colab_type": "code",
        "outputId": "b3666e9b-7874-4cd2-f86b-f55df9abca17",
        "colab": {
          "base_uri": "https://localhost:8080/",
          "height": 34
        }
      },
      "source": [
        "# 1\n",
        "len(data[data['prime_genre'] == 'Games'])"
      ],
      "execution_count": 24,
      "outputs": [
        {
          "output_type": "execute_result",
          "data": {
            "text/plain": [
              "3862"
            ]
          },
          "metadata": {
            "tags": []
          },
          "execution_count": 24
        }
      ]
    },
    {
      "cell_type": "code",
      "metadata": {
        "id": "CqtNCIz7x3E5",
        "colab_type": "code",
        "outputId": "f981ce4d-122a-435d-885f-1669ff96883e",
        "colab": {
          "base_uri": "https://localhost:8080/",
          "height": 34
        }
      },
      "source": [
        "# 2\n",
        "len(data[(data['user_rating'] >= 4) & (data['prime_genre'] == 'Games')])"
      ],
      "execution_count": 25,
      "outputs": [
        {
          "output_type": "execute_result",
          "data": {
            "text/plain": [
              "2868"
            ]
          },
          "metadata": {
            "tags": []
          },
          "execution_count": 25
        }
      ]
    },
    {
      "cell_type": "markdown",
      "metadata": {
        "id": "wMDpmDfTx3FI",
        "colab_type": "text"
      },
      "source": [
        "Оператор \"ИЛИ\" аналогично &, только он через |"
      ]
    },
    {
      "cell_type": "code",
      "metadata": {
        "id": "ILbCvhDkx3FJ",
        "colab_type": "code",
        "outputId": "b6432c43-9687-4e88-a593-3d4941c60ca0",
        "colab": {
          "base_uri": "https://localhost:8080/",
          "height": 34
        }
      },
      "source": [
        "len(data[(data['user_rating'] >= 4) | (data['prime_genre'] == 'Games')])"
      ],
      "execution_count": 26,
      "outputs": [
        {
          "output_type": "execute_result",
          "data": {
            "text/plain": [
              "5775"
            ]
          },
          "metadata": {
            "tags": []
          },
          "execution_count": 26
        }
      ]
    },
    {
      "cell_type": "markdown",
      "metadata": {
        "id": "ZvOCoEiQx3FR",
        "colab_type": "text"
      },
      "source": [
        "---"
      ]
    },
    {
      "cell_type": "markdown",
      "metadata": {
        "id": "shjzjxJjx3FT",
        "colab_type": "text"
      },
      "source": [
        "#### Задание 1"
      ]
    },
    {
      "cell_type": "markdown",
      "metadata": {
        "id": "d6CmfXcpx3FW",
        "colab_type": "text"
      },
      "source": [
        "Получите ответ на следующие вопросы (с помощью pandas):\n",
        "\n",
        "1). Сколько всего жанров и какие они?  \n",
        "2). Сколько суммарно байт весят все приложения жанра Finance?  \n",
        "3). Сколько всего бесплатных приложений, у которых рейтинг юзеров больше трёх?  \n",
        "4). Есть ли приложения, которые стоят больше 100 долларов?"
      ]
    },
    {
      "cell_type": "code",
      "metadata": {
        "id": "_BmYbDPWx3FX",
        "colab_type": "code",
        "outputId": "17907154-d0c5-404d-c2ef-2c4ca193bcd8",
        "colab": {
          "base_uri": "https://localhost:8080/",
          "height": 153
        }
      },
      "source": [
        "print('Сколько всего жанров и какие они?', np.unique(data['prime_genre']))\n",
        "print('Сколько суммарно байт весят все приложения жанра Finance?', np.sum(  (data[data['prime_genre'] == 'Finance'])  ['size_bytes']  )/(2**30), 'Gb') #командой data[data['prime_genre'] == 'Finance'] мы берем кусочек data только с финансовыми приложениями - выглядит громоздко\n",
        "print('Сколько всего бесплатных приложений, у которых рейтинг юзеров больше трёх?', len(  data[(data['user_rating'] >= 3) & (data['price'] == 0)]  ))\n",
        "print('Есть ли приложения, которые стоят больше 100 долларов?')\n",
        "if (len (data[data['price'] >= 100]) > 0):\n",
        "    print ('Да')\n",
        "else:\n",
        "    print('Нет')"
      ],
      "execution_count": 27,
      "outputs": [
        {
          "output_type": "stream",
          "text": [
            "Сколько всего жанров и какие они? ['Book' 'Business' 'Catalogs' 'Education' 'Entertainment' 'Finance'\n",
            " 'Food & Drink' 'Games' 'Health & Fitness' 'Lifestyle' 'Medical' 'Music'\n",
            " 'Navigation' 'News' 'Photo & Video' 'Productivity' 'Reference' 'Shopping'\n",
            " 'Social Networking' 'Sports' 'Travel' 'Utilities' 'Weather']\n",
            "Сколько суммарно байт весят все приложения жанра Finance? 7.577733477577567 Gb\n",
            "Сколько всего бесплатных приложений, у которых рейтинг юзеров больше трёх? 3160\n",
            "Есть ли приложения, которые стоят больше 100 долларов?\n",
            "Да\n"
          ],
          "name": "stdout"
        }
      ]
    },
    {
      "cell_type": "markdown",
      "metadata": {
        "id": "iZVo7Up2x3Fp",
        "colab_type": "text"
      },
      "source": [
        "---"
      ]
    },
    {
      "cell_type": "markdown",
      "metadata": {
        "id": "i7jEKELox3Fq",
        "colab_type": "text"
      },
      "source": [
        "Часто надо сделать что-то такое:"
      ]
    },
    {
      "cell_type": "code",
      "metadata": {
        "id": "EvqI6YvRx3Fr",
        "colab_type": "code",
        "colab": {}
      },
      "source": [
        "import numpy as np"
      ],
      "execution_count": 0,
      "outputs": []
    },
    {
      "cell_type": "code",
      "metadata": {
        "id": "deM1Ic-ux3F1",
        "colab_type": "code",
        "outputId": "0e0d122c-956e-461d-a533-130a22c0407b",
        "colab": {
          "base_uri": "https://localhost:8080/",
          "height": 51
        }
      },
      "source": [
        "np.array(data['size_bytes'])"
      ],
      "execution_count": 29,
      "outputs": [
        {
          "output_type": "execute_result",
          "data": {
            "text/plain": [
              "array([100788224, 158578688, 100524032, ..., 111322112,  97235968,\n",
              "        90898432])"
            ]
          },
          "metadata": {
            "tags": []
          },
          "execution_count": 29
        }
      ]
    },
    {
      "cell_type": "markdown",
      "metadata": {
        "id": "Dl3KcaGQx3F7",
        "colab_type": "text"
      },
      "source": [
        "То есть взять столбец из таблицы и засунуть его в np.array(). Это можно сделать и просто обратившись к .values, ведь его тип и есть np.array:"
      ]
    },
    {
      "cell_type": "code",
      "metadata": {
        "id": "9TVwLElax3F8",
        "colab_type": "code",
        "outputId": "fd3c9d23-fe1c-43b8-d7bf-102321a4b910",
        "colab": {
          "base_uri": "https://localhost:8080/",
          "height": 34
        }
      },
      "source": [
        "type(data['size_bytes'].values)"
      ],
      "execution_count": 30,
      "outputs": [
        {
          "output_type": "execute_result",
          "data": {
            "text/plain": [
              "numpy.ndarray"
            ]
          },
          "metadata": {
            "tags": []
          },
          "execution_count": 30
        }
      ]
    },
    {
      "cell_type": "markdown",
      "metadata": {
        "id": "QnrNlJz6x3GF",
        "colab_type": "text"
      },
      "source": [
        "Больше про pandas можно найти по этом полезным ссылкам:"
      ]
    },
    {
      "cell_type": "markdown",
      "metadata": {
        "id": "0mjd6cWKx3GG",
        "colab_type": "text"
      },
      "source": [
        "* Официальные туториалы: http://pandas.pydata.org/pandas-docs/stable/tutorials.html"
      ]
    },
    {
      "cell_type": "markdown",
      "metadata": {
        "id": "Qr_QOiTgx3G0",
        "colab_type": "text"
      },
      "source": [
        "* Статья на Хабре от OpenDataScience сообщества: https://habr.com/company/ods/blog/322626/"
      ]
    },
    {
      "cell_type": "markdown",
      "metadata": {
        "id": "gaMghuSKx3G1",
        "colab_type": "text"
      },
      "source": [
        "* Подробный гайд: https://media.readthedocs.org/pdf/pandasguide/latest/pandasguide.pdf"
      ]
    },
    {
      "cell_type": "markdown",
      "metadata": {
        "id": "RnBQspnzx3G3",
        "colab_type": "text"
      },
      "source": [
        "Главное в работе с новыми библиотеками -- не бояться тыкать в разные функции, смотреть типы возвращаемых объектов и активно пользоваться Яндексом, а ещё лучше понимать всё из docstring'а (`Shift+Tab` при нахождении курсора внутри скобок функции)."
      ]
    }
  ]
}