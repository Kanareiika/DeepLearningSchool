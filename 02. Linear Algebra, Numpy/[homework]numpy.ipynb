{
  "nbformat": 4,
  "nbformat_minor": 0,
  "metadata": {
    "colab": {
      "name": "[homework]numpy.ipynb",
      "version": "0.3.2",
      "provenance": [],
      "collapsed_sections": []
    },
    "kernelspec": {
      "display_name": "Python [conda env:anaconda3]",
      "language": "python",
      "name": "conda-env-anaconda3-py"
    }
  },
  "cells": [
    {
      "cell_type": "markdown",
      "metadata": {
        "id": "9zWJc5rl9kVh",
        "colab_type": "text"
      },
      "source": [
        "## Домашнее задание 2: библиотека Numpy и линейная алгебра\n"
      ]
    },
    {
      "cell_type": "markdown",
      "metadata": {
        "id": "nq2vjOfwWLwF",
        "colab_type": "text"
      },
      "source": [
        "Импортируем библиотеки:"
      ]
    },
    {
      "cell_type": "code",
      "metadata": {
        "id": "R0mDEfRJ9kVi",
        "colab_type": "code",
        "colab": {}
      },
      "source": [
        "import numpy as np\n",
        "import pandas as pd\n",
        "import matplotlib.pyplot as plt\n",
        "\n",
        "from scipy import ndimage  # спецификатор для работы с изображениями\n",
        "from scipy import misc\n",
        "import scipy.stats as sps\n",
        "\n",
        "from PIL import Image\n",
        "\n",
        "%matplotlib inline"
      ],
      "execution_count": 0,
      "outputs": []
    },
    {
      "cell_type": "markdown",
      "metadata": {
        "id": "ZexBy7Kb9kVm",
        "colab_type": "text"
      },
      "source": [
        "### Задание 1"
      ]
    },
    {
      "cell_type": "markdown",
      "metadata": {
        "id": "QuJhYgJU9kVn",
        "colab_type": "text"
      },
      "source": [
        "В первой задаче вам предлагается перемножить две квадратные матрицы двумя способами -- без использования пакета numpy и с ним."
      ]
    },
    {
      "cell_type": "code",
      "metadata": {
        "id": "506uaq1E9kVn",
        "colab_type": "code",
        "outputId": "cb21b582-f7d3-449c-e21b-75b375c47760",
        "colab": {
          "base_uri": "https://localhost:8080/",
          "height": 34
        }
      },
      "source": [
        "# Для генерации матриц используем фукнцию random -- она используется для генерации случайных объектов \n",
        "# функция sample создает случайную выборку. В качестве аргумента ей передается кортеж (i,j), здесь i -- число строк,\n",
        "# j -- число столбцов.\n",
        "a = np.random.sample((10,10))\n",
        "b = np.random.sample((10,10))\n",
        "# выведите размерность (ранг) каждой матрицы с помощью функции ndim.\n",
        "# Используйте функцию shape, что она вывела?\n",
        "# ========\n",
        "# тут можно писать код \n",
        "# ========\n",
        "#print(a)\n",
        "#print(b)\n",
        "\n",
        "print('ndim(A)=', a.ndim, ', shape(a)=', a.shape)"
      ],
      "execution_count": 0,
      "outputs": [
        {
          "output_type": "stream",
          "text": [
            "ndim(A)= 2 , shape(a)= (10, 10)\n"
          ],
          "name": "stdout"
        }
      ]
    },
    {
      "cell_type": "code",
      "metadata": {
        "id": "OT01mk-C9kVq",
        "colab_type": "code",
        "outputId": "0aa23cea-3f91-46dd-9fe7-4eae54524e6e",
        "colab": {
          "base_uri": "https://localhost:8080/",
          "height": 357
        }
      },
      "source": [
        "def mult(a, b):\n",
        "    # здесь напишите перемножение матриц без \n",
        "    # использования NumPy и выведите результат\n",
        "    c = np.zeros((len(a),len(b[0])))\n",
        "    for i in range (len(a)):\n",
        "      for j in range(len(b[0])):\n",
        "        c[i,j]=(a[i,j]*b[i,j])\n",
        "    return(c)\n",
        "print(mult(a,b))"
      ],
      "execution_count": 0,
      "outputs": [
        {
          "output_type": "stream",
          "text": [
            "[[0.35872345 0.64528942 0.5940939  0.13732373 0.09992784 0.16183943\n",
            "  0.5485186  0.12168942 0.17486606 0.01964421]\n",
            " [0.63067979 0.03173594 0.09601991 0.05845019 0.81415292 0.11299804\n",
            "  0.20698539 0.10260565 0.00421739 0.02158996]\n",
            " [0.33404869 0.15384055 0.29540924 0.30921409 0.50488339 0.01079558\n",
            "  0.11154403 0.84003642 0.1736418  0.00226995]\n",
            " [0.23498985 0.41253378 0.04001569 0.65961304 0.00238273 0.06192398\n",
            "  0.15239784 0.0220371  0.4576264  0.49668089]\n",
            " [0.12814528 0.11958866 0.1218494  0.02626078 0.00591825 0.05857557\n",
            "  0.60854608 0.10346933 0.10340833 0.46338124]\n",
            " [0.11652033 0.05886987 0.17338639 0.05403716 0.0352869  0.71046978\n",
            "  0.56064073 0.06505774 0.06043433 0.17347921]\n",
            " [0.02725367 0.27267932 0.48407744 0.17884697 0.23512777 0.47083834\n",
            "  0.07424684 0.00124469 0.19730575 0.23131511]\n",
            " [0.09306499 0.00643416 0.34821854 0.26232783 0.12012289 0.19897175\n",
            "  0.17233398 0.25558601 0.36097764 0.00408871]\n",
            " [0.52622178 0.49108556 0.17698688 0.59733071 0.3701798  0.00374322\n",
            "  0.42223888 0.2306741  0.21899383 0.03237721]\n",
            " [0.00313202 0.00445609 0.48507349 0.3711318  0.46420144 0.19579132\n",
            "  0.08338273 0.86880626 0.5548123  0.02572525]]\n"
          ],
          "name": "stdout"
        }
      ]
    },
    {
      "cell_type": "code",
      "metadata": {
        "id": "AyyDUyqh9kVs",
        "colab_type": "code",
        "outputId": "25f3bf92-d6e2-44df-d6e0-eab951ce2e07",
        "colab": {
          "base_uri": "https://localhost:8080/",
          "height": 357
        }
      },
      "source": [
        "def np_mult(a, b):\n",
        "    # здесь напишите перемножение матриц с\n",
        "    # использованием NumPy и выведите результат\n",
        "    return a*b\n",
        "print(np_mult(a,b))"
      ],
      "execution_count": 0,
      "outputs": [
        {
          "output_type": "stream",
          "text": [
            "[[0.35872345 0.64528942 0.5940939  0.13732373 0.09992784 0.16183943\n",
            "  0.5485186  0.12168942 0.17486606 0.01964421]\n",
            " [0.63067979 0.03173594 0.09601991 0.05845019 0.81415292 0.11299804\n",
            "  0.20698539 0.10260565 0.00421739 0.02158996]\n",
            " [0.33404869 0.15384055 0.29540924 0.30921409 0.50488339 0.01079558\n",
            "  0.11154403 0.84003642 0.1736418  0.00226995]\n",
            " [0.23498985 0.41253378 0.04001569 0.65961304 0.00238273 0.06192398\n",
            "  0.15239784 0.0220371  0.4576264  0.49668089]\n",
            " [0.12814528 0.11958866 0.1218494  0.02626078 0.00591825 0.05857557\n",
            "  0.60854608 0.10346933 0.10340833 0.46338124]\n",
            " [0.11652033 0.05886987 0.17338639 0.05403716 0.0352869  0.71046978\n",
            "  0.56064073 0.06505774 0.06043433 0.17347921]\n",
            " [0.02725367 0.27267932 0.48407744 0.17884697 0.23512777 0.47083834\n",
            "  0.07424684 0.00124469 0.19730575 0.23131511]\n",
            " [0.09306499 0.00643416 0.34821854 0.26232783 0.12012289 0.19897175\n",
            "  0.17233398 0.25558601 0.36097764 0.00408871]\n",
            " [0.52622178 0.49108556 0.17698688 0.59733071 0.3701798  0.00374322\n",
            "  0.42223888 0.2306741  0.21899383 0.03237721]\n",
            " [0.00313202 0.00445609 0.48507349 0.3711318  0.46420144 0.19579132\n",
            "  0.08338273 0.86880626 0.5548123  0.02572525]]\n"
          ],
          "name": "stdout"
        }
      ]
    },
    {
      "cell_type": "code",
      "metadata": {
        "id": "bL4XGWIh9kVu",
        "colab_type": "code",
        "outputId": "d2f6fc0b-1dba-4072-c150-f046f7cc24e7",
        "colab": {
          "base_uri": "https://localhost:8080/",
          "height": 391
        }
      },
      "source": [
        "%%time\n",
        "# засечем время работы функции без NumPy\n",
        "mult(a,b)"
      ],
      "execution_count": 0,
      "outputs": [
        {
          "output_type": "stream",
          "text": [
            "CPU times: user 78 µs, sys: 7 µs, total: 85 µs\n",
            "Wall time: 88.7 µs\n"
          ],
          "name": "stdout"
        },
        {
          "output_type": "execute_result",
          "data": {
            "text/plain": [
              "array([[0.35872345, 0.64528942, 0.5940939 , 0.13732373, 0.09992784,\n",
              "        0.16183943, 0.5485186 , 0.12168942, 0.17486606, 0.01964421],\n",
              "       [0.63067979, 0.03173594, 0.09601991, 0.05845019, 0.81415292,\n",
              "        0.11299804, 0.20698539, 0.10260565, 0.00421739, 0.02158996],\n",
              "       [0.33404869, 0.15384055, 0.29540924, 0.30921409, 0.50488339,\n",
              "        0.01079558, 0.11154403, 0.84003642, 0.1736418 , 0.00226995],\n",
              "       [0.23498985, 0.41253378, 0.04001569, 0.65961304, 0.00238273,\n",
              "        0.06192398, 0.15239784, 0.0220371 , 0.4576264 , 0.49668089],\n",
              "       [0.12814528, 0.11958866, 0.1218494 , 0.02626078, 0.00591825,\n",
              "        0.05857557, 0.60854608, 0.10346933, 0.10340833, 0.46338124],\n",
              "       [0.11652033, 0.05886987, 0.17338639, 0.05403716, 0.0352869 ,\n",
              "        0.71046978, 0.56064073, 0.06505774, 0.06043433, 0.17347921],\n",
              "       [0.02725367, 0.27267932, 0.48407744, 0.17884697, 0.23512777,\n",
              "        0.47083834, 0.07424684, 0.00124469, 0.19730575, 0.23131511],\n",
              "       [0.09306499, 0.00643416, 0.34821854, 0.26232783, 0.12012289,\n",
              "        0.19897175, 0.17233398, 0.25558601, 0.36097764, 0.00408871],\n",
              "       [0.52622178, 0.49108556, 0.17698688, 0.59733071, 0.3701798 ,\n",
              "        0.00374322, 0.42223888, 0.2306741 , 0.21899383, 0.03237721],\n",
              "       [0.00313202, 0.00445609, 0.48507349, 0.3711318 , 0.46420144,\n",
              "        0.19579132, 0.08338273, 0.86880626, 0.5548123 , 0.02572525]])"
            ]
          },
          "metadata": {
            "tags": []
          },
          "execution_count": 18
        }
      ]
    },
    {
      "cell_type": "code",
      "metadata": {
        "id": "Ej9y25jB9kVw",
        "colab_type": "code",
        "outputId": "4d655c32-fa38-45b2-d4ad-ad5059ed7a78",
        "colab": {
          "base_uri": "https://localhost:8080/",
          "height": 391
        }
      },
      "source": [
        "%%time\n",
        "# засечем время работы функции с NumPy\n",
        "np_mult(a,b)"
      ],
      "execution_count": 0,
      "outputs": [
        {
          "output_type": "stream",
          "text": [
            "CPU times: user 22 µs, sys: 0 ns, total: 22 µs\n",
            "Wall time: 26 µs\n"
          ],
          "name": "stdout"
        },
        {
          "output_type": "execute_result",
          "data": {
            "text/plain": [
              "array([[0.35872345, 0.64528942, 0.5940939 , 0.13732373, 0.09992784,\n",
              "        0.16183943, 0.5485186 , 0.12168942, 0.17486606, 0.01964421],\n",
              "       [0.63067979, 0.03173594, 0.09601991, 0.05845019, 0.81415292,\n",
              "        0.11299804, 0.20698539, 0.10260565, 0.00421739, 0.02158996],\n",
              "       [0.33404869, 0.15384055, 0.29540924, 0.30921409, 0.50488339,\n",
              "        0.01079558, 0.11154403, 0.84003642, 0.1736418 , 0.00226995],\n",
              "       [0.23498985, 0.41253378, 0.04001569, 0.65961304, 0.00238273,\n",
              "        0.06192398, 0.15239784, 0.0220371 , 0.4576264 , 0.49668089],\n",
              "       [0.12814528, 0.11958866, 0.1218494 , 0.02626078, 0.00591825,\n",
              "        0.05857557, 0.60854608, 0.10346933, 0.10340833, 0.46338124],\n",
              "       [0.11652033, 0.05886987, 0.17338639, 0.05403716, 0.0352869 ,\n",
              "        0.71046978, 0.56064073, 0.06505774, 0.06043433, 0.17347921],\n",
              "       [0.02725367, 0.27267932, 0.48407744, 0.17884697, 0.23512777,\n",
              "        0.47083834, 0.07424684, 0.00124469, 0.19730575, 0.23131511],\n",
              "       [0.09306499, 0.00643416, 0.34821854, 0.26232783, 0.12012289,\n",
              "        0.19897175, 0.17233398, 0.25558601, 0.36097764, 0.00408871],\n",
              "       [0.52622178, 0.49108556, 0.17698688, 0.59733071, 0.3701798 ,\n",
              "        0.00374322, 0.42223888, 0.2306741 , 0.21899383, 0.03237721],\n",
              "       [0.00313202, 0.00445609, 0.48507349, 0.3711318 , 0.46420144,\n",
              "        0.19579132, 0.08338273, 0.86880626, 0.5548123 , 0.02572525]])"
            ]
          },
          "metadata": {
            "tags": []
          },
          "execution_count": 19
        }
      ]
    },
    {
      "cell_type": "markdown",
      "metadata": {
        "id": "pNEVDEQJ9kVz",
        "colab_type": "text"
      },
      "source": [
        "### Задание 2"
      ]
    },
    {
      "cell_type": "markdown",
      "metadata": {
        "id": "TNG-vLX_9kVz",
        "colab_type": "text"
      },
      "source": [
        "Напишите функцию, которая по данной последовательности $\\{A_i\\}_{i=1}^n$ строит последовательность $S_n$, где $S_k = \\frac{A_1 + ... + A_k}{k}$.\n",
        "Аналогично -- с помощью библиотеки NumPy и без нее. Сравните скорость, объясните результат."
      ]
    },
    {
      "cell_type": "code",
      "metadata": {
        "id": "VNuFOp519kV0",
        "colab_type": "code",
        "outputId": "d5047297-ad02-4592-fb9a-9c96b840adb3",
        "colab": {
          "base_uri": "https://localhost:8080/",
          "height": 51
        }
      },
      "source": [
        "# функция, решающая задачу с помощью NumPy\n",
        "\n",
        "n = 10.1\n",
        "A = np.arange(1, n, 0.5)\n",
        "\n",
        "def sec_av(A):\n",
        "    # Ваш код здесь\n",
        "    S = np.cumsum(A) / np.arange(1, len(A)+1)\n",
        "    return S\n",
        "\n",
        "print (sec_av(A))"
      ],
      "execution_count": 0,
      "outputs": [
        {
          "output_type": "stream",
          "text": [
            "[1.   1.25 1.5  1.75 2.   2.25 2.5  2.75 3.   3.25 3.5  3.75 4.   4.25\n",
            " 4.5  4.75 5.   5.25 5.5 ]\n"
          ],
          "name": "stdout"
        }
      ]
    },
    {
      "cell_type": "code",
      "metadata": {
        "id": "bR5rmZrgPc7P",
        "colab_type": "code",
        "outputId": "af1ded7a-c646-4719-f8fc-d2c70fab2cc0",
        "colab": {
          "base_uri": "https://localhost:8080/",
          "height": 34
        }
      },
      "source": [
        "# функция без NumPy\n",
        "def stupid_sec_av(A):\n",
        "    sum=0\n",
        "    S = [0 for i in range(len(A))]\n",
        "    for i in range(len(A)):\n",
        "      sum = sum + A[i]\n",
        "      S[i] = sum/(i+1)\n",
        "    return S\n",
        "\n",
        "print (stupid_sec_av(A))"
      ],
      "execution_count": 0,
      "outputs": [
        {
          "output_type": "stream",
          "text": [
            "[1.0, 1.25, 1.5, 1.75, 2.0, 2.25, 2.5, 2.75, 3.0, 3.25, 3.5, 3.75, 4.0, 4.25, 4.5, 4.75, 5.0, 5.25, 5.5]\n"
          ],
          "name": "stdout"
        }
      ]
    },
    {
      "cell_type": "code",
      "metadata": {
        "id": "kgKYKkRR9kV2",
        "colab_type": "code",
        "outputId": "3eedd104-54ab-41b4-9d67-1587ad8b59fa",
        "colab": {
          "base_uri": "https://localhost:8080/",
          "height": 102
        }
      },
      "source": [
        "# зададим некоторую последовательность и проверим ее на ваших функциях. \n",
        "# Первая функция должна работать ~ в 50 раз быстрее\n",
        "A = sps.uniform.rvs(size=10 ** 7) \n",
        "\n",
        "%time S1 = sec_av(A)\n",
        "%time S2 = stupid_sec_av(A)\n",
        "#проверим корректность:\n",
        "np.abs(S1 - S2).sum()"
      ],
      "execution_count": 0,
      "outputs": [
        {
          "output_type": "stream",
          "text": [
            "CPU times: user 88.5 ms, sys: 1.02 ms, total: 89.5 ms\n",
            "Wall time: 89.5 ms\n",
            "CPU times: user 5.29 s, sys: 124 ms, total: 5.41 s\n",
            "Wall time: 5.41 s\n"
          ],
          "name": "stdout"
        },
        {
          "output_type": "execute_result",
          "data": {
            "text/plain": [
              "0.0"
            ]
          },
          "metadata": {
            "tags": []
          },
          "execution_count": 29
        }
      ]
    },
    {
      "cell_type": "markdown",
      "metadata": {
        "id": "hYOmgppl9kV5",
        "colab_type": "text"
      },
      "source": [
        "### Задание 3"
      ]
    },
    {
      "cell_type": "markdown",
      "metadata": {
        "id": "TkrFKdoJ9kV5",
        "colab_type": "text"
      },
      "source": [
        "Пусть задан некоторый массив $X$. Надо построить новый массив, где все элементы с нечетными индексами требуется заменить на число $a$ (если оно не указано, то на 1). Все четные элементы исходного массива нужно возвести в куб и записать в обратном порядке относительно позиций этих элементов. Массив $X$ при этом должен остаться без изменений. В конце требуется слить массив $X$ с преобразованным $X$ и вывести в обратном порядке."
      ]
    },
    {
      "cell_type": "code",
      "metadata": {
        "id": "MOUotbrS9kV7",
        "colab_type": "code",
        "colab": {}
      },
      "source": [
        "# функция, решающая задачу с помощью NumPy\n",
        "def transformation(X, a=1):\n",
        "    # Ваш код здесь\n",
        "    Y = np.array(X[::-1])\n",
        "    Y[1::2] = a\n",
        "    Y[::2] = Y[::2] ** 3\n",
        "    Y = np.hstack((np.array(X),Y))\n",
        "    return Y"
      ],
      "execution_count": 0,
      "outputs": []
    },
    {
      "cell_type": "code",
      "metadata": {
        "id": "Ut3v_joM9kV9",
        "colab_type": "code",
        "colab": {}
      },
      "source": [
        "# функция, решающая задачу  без NumPy\n",
        "\n",
        "def stupid_transformation(X, a=1):\n",
        "    # Ваш код здесь\n",
        "    Y = [X[i] for i in range(len(X))]\n",
        "    for i in range(1, len(X), 2):\n",
        "      Y[i]=a\n",
        "    for i in range(0, len(X), 2):\n",
        "      Y[i]=(X[(len(X)-1)-i])**3\n",
        "    Y = X + Y\n",
        "    return Y"
      ],
      "execution_count": 0,
      "outputs": []
    },
    {
      "cell_type": "code",
      "metadata": {
        "id": "cRN-m4xcWXC3",
        "colab_type": "code",
        "outputId": "87706926-be58-4c32-e3d2-6462ed8cebc5",
        "colab": {
          "base_uri": "https://localhost:8080/",
          "height": 51
        }
      },
      "source": [
        "print(transformation(np.array([1,3,4,2,4,8,9]), 777))\n",
        "print(stupid_transformation([1,3,4,2,4,8,9], 777))"
      ],
      "execution_count": 0,
      "outputs": [
        {
          "output_type": "stream",
          "text": [
            "[  1   3   4   2   4   8   9 729 777  64 777  64 777   1]\n",
            "[1, 3, 4, 2, 4, 8, 9, 729, 777, 64, 777, 64, 777, 1]\n"
          ],
          "name": "stdout"
        }
      ]
    },
    {
      "cell_type": "code",
      "metadata": {
        "id": "6SezU3-O9kV_",
        "colab_type": "code",
        "outputId": "7608de86-aa8b-4bfb-d8e6-a87e32d13a8c",
        "colab": {
          "base_uri": "https://localhost:8080/",
          "height": 102
        }
      },
      "source": [
        "X = [i for i in range(1, 10*100, 10)]\n",
        "# здесь код эффективнее примерно в 20 раз. \n",
        "# если Вы вдруг соберетесь печатать массив без np -- лучше сначала посмотрите на его размер\n",
        "%time S1 = transformation(X)\n",
        "%time S2 = stupid_transformation(X)\n",
        "# проверим корректность:\n",
        "np.abs(S1 - S2).sum()"
      ],
      "execution_count": 0,
      "outputs": [
        {
          "output_type": "stream",
          "text": [
            "CPU times: user 206 µs, sys: 14 µs, total: 220 µs\n",
            "Wall time: 170 µs\n",
            "CPU times: user 45 µs, sys: 0 ns, total: 45 µs\n",
            "Wall time: 48.4 µs\n"
          ],
          "name": "stdout"
        },
        {
          "output_type": "execute_result",
          "data": {
            "text/plain": [
              "0"
            ]
          },
          "metadata": {
            "tags": []
          },
          "execution_count": 49
        }
      ]
    },
    {
      "cell_type": "markdown",
      "metadata": {
        "id": "q7eDK6zZ9kWC",
        "colab_type": "text"
      },
      "source": [
        "Что вы можете сказать о скорости вычислений в `NumPy`? Ответ обоснуйте.\n",
        "\n",
        "**Ответ:** Скорость вычислений в NP для операций с матрицами значительно выше благодаря использованию кода на C/C++, который гораздо лучше оптимизирован под решение задач с многократными итерациями."
      ]
    },
    {
      "cell_type": "markdown",
      "metadata": {
        "id": "SLWNN0DA9kWF",
        "colab_type": "text"
      },
      "source": [
        "### Задание 4"
      ]
    },
    {
      "cell_type": "markdown",
      "metadata": {
        "id": "k1tdLLo29kWG",
        "colab_type": "text"
      },
      "source": [
        "Вам подаются на вход два вектора `a` и `b` в трехмерном пространстве.Заполните их случайными числами. Реализуйте их скалярное произведение с помощью  `NumPy` и без. Засеките время работы, как это показано в заданиях выше."
      ]
    },
    {
      "cell_type": "code",
      "metadata": {
        "id": "116WkBP49kWH",
        "colab_type": "code",
        "colab": {}
      },
      "source": [
        "a = #тут ваш код\n",
        "b = #тут ваш код"
      ],
      "execution_count": 0,
      "outputs": []
    },
    {
      "cell_type": "code",
      "metadata": {
        "id": "6HKKpgD39kWL",
        "colab_type": "code",
        "colab": {}
      },
      "source": [
        "def stupid_scalar_product(a,b):\n",
        "    #тут ваш код"
      ],
      "execution_count": 0,
      "outputs": []
    },
    {
      "cell_type": "code",
      "metadata": {
        "id": "lta984vp9kWP",
        "colab_type": "code",
        "colab": {}
      },
      "source": [
        "def numpy_scalar_product(a,b):\n",
        "    #тут ваш код"
      ],
      "execution_count": 0,
      "outputs": []
    },
    {
      "cell_type": "code",
      "metadata": {
        "id": "5QK3Yj5j9kWR",
        "colab_type": "code",
        "colab": {}
      },
      "source": [
        "%time product_1 = stupid_scalar_product(a,b)\n",
        "%time product_2 = numpy_scalar_product(a,b)\n",
        "# проверим корректность:\n",
        "np.abs(product_1 - product_2).sum()"
      ],
      "execution_count": 0,
      "outputs": []
    },
    {
      "cell_type": "markdown",
      "metadata": {
        "id": "H7BjRjaOSPjv",
        "colab_type": "text"
      },
      "source": [
        "### Задание 5*"
      ]
    },
    {
      "cell_type": "markdown",
      "metadata": {
        "id": "yfDNm_8QSPx9",
        "colab_type": "text"
      },
      "source": [
        "Нужно написать матричное произведение БЕЗ циклов и БЕЗ символа @, БЕЗ `np.dot` и вообще БЕЗ какой-либо вспомогательной функции из `numpy`, то есть пользуясь только индексированием, взятем суммы по нужным осям и поэлементным произведенем (да, это возможно). Рекомендуем гуглить по запросу \"NumPy broadcasting\""
      ]
    },
    {
      "cell_type": "code",
      "metadata": {
        "id": "odEvxgLiSP65",
        "colab_type": "code",
        "colab": {}
      },
      "source": [
        "def cool_matrix_product(A, B):\n",
        "    # Ваш код здесь"
      ],
      "execution_count": 0,
      "outputs": []
    },
    {
      "cell_type": "code",
      "metadata": {
        "id": "4aO8bEs9SvJ8",
        "colab_type": "code",
        "colab": {}
      },
      "source": [
        "# тут проверьте, что всё правильно перемножается"
      ],
      "execution_count": 0,
      "outputs": []
    },
    {
      "cell_type": "markdown",
      "metadata": {
        "id": "KrJBnpIQSpVB",
        "colab_type": "text"
      },
      "source": [
        "Ваш код не будет проверяться нами непосредственно, однако это очень и очень полезное упражнение."
      ]
    },
    {
      "cell_type": "markdown",
      "metadata": {
        "id": "J_7dapMK9kWS",
        "colab_type": "text"
      },
      "source": [
        "## Бонусная часть (в тесте вопросов по ней не будет)"
      ]
    },
    {
      "cell_type": "markdown",
      "metadata": {
        "id": "Ld2wo7J49kWT",
        "colab_type": "text"
      },
      "source": [
        "Image = 2-D численный массив\n",
        "(или 3-D: CT, MRI, 2D + time; 4-D, …)\n",
        "В текущем задании, image == Numpy array (np.array)"
      ]
    },
    {
      "cell_type": "code",
      "metadata": {
        "id": "4OvzTYbo9kWT",
        "colab_type": "code",
        "colab": {}
      },
      "source": [
        "pic = misc.face()  # встроенная в библиотеку функция, которая загружает картинку с енотом"
      ],
      "execution_count": 0,
      "outputs": []
    },
    {
      "cell_type": "markdown",
      "metadata": {
        "id": "7bfaJn7K9kWW",
        "colab_type": "text"
      },
      "source": [
        "Выведите тип и размеры для переменной pic. Что лежит внутри?"
      ]
    },
    {
      "cell_type": "code",
      "metadata": {
        "id": "MLlpZY-P9kWW",
        "colab_type": "code",
        "colab": {}
      },
      "source": [
        "print(#тут ваш код)"
      ],
      "execution_count": 0,
      "outputs": []
    },
    {
      "cell_type": "markdown",
      "metadata": {
        "id": "x7SVBSJO9kWY",
        "colab_type": "text"
      },
      "source": [
        "Если вы все сделали правильно, что для формы у вас выведется кортеж из трех чисел: (X, Y, 3). Предположите, откуда там 3?\n",
        "\n",
        "**Ответ:**"
      ]
    },
    {
      "cell_type": "markdown",
      "metadata": {
        "id": "4glUbq3J9kWZ",
        "colab_type": "text"
      },
      "source": [
        "С помощью функции ниже можно вывести изображение и посмотреть, что находится внутри:"
      ]
    },
    {
      "cell_type": "code",
      "metadata": {
        "id": "wW3QcdHH9kWZ",
        "colab_type": "code",
        "colab": {}
      },
      "source": [
        "plt.imshow(pic)"
      ],
      "execution_count": 0,
      "outputs": []
    },
    {
      "cell_type": "markdown",
      "metadata": {
        "id": "JZbV8aaV9kWb",
        "colab_type": "text"
      },
      "source": [
        "Убедитесь, что внутри массива `pic` действительно лежат числа. Выведите первые 10 записей.\n",
        "Массив состоит из троек чисел, которые характеризуют глубину цвета для каждого пикселя. Из пикселей складывается картинка."
      ]
    },
    {
      "cell_type": "code",
      "metadata": {
        "id": "vnO9Nu3p9kWb",
        "colab_type": "code",
        "colab": {}
      },
      "source": [
        "print(#тут ваш код)"
      ],
      "execution_count": 0,
      "outputs": []
    },
    {
      "cell_type": "markdown",
      "metadata": {
        "id": "OzS_dpQ59kWc",
        "colab_type": "text"
      },
      "source": [
        "Выведите значение максимального элемента в матрице. Выведите значение минимального. Выведите среднее по всем элементам матрице. В каких пределах лежат значения глубины цветов?"
      ]
    },
    {
      "cell_type": "code",
      "metadata": {
        "id": "8nLbvb7G9kWd",
        "colab_type": "code",
        "colab": {}
      },
      "source": [
        "print(#тут ваш код)"
      ],
      "execution_count": 0,
      "outputs": []
    },
    {
      "cell_type": "markdown",
      "metadata": {
        "id": "7s08AjBO9kWf",
        "colab_type": "text"
      },
      "source": [
        "### Задание 2"
      ]
    },
    {
      "cell_type": "markdown",
      "metadata": {
        "id": "pqnS54SN9kWf",
        "colab_type": "text"
      },
      "source": [
        "Теперь загрузим черно-белое изображение енота, чтобы наш массив был не 3-х мерным тензором, а двумерным массивом. Тензоры обрабатываются точно также, но для простоты пока что давайте работать с двумерными массивами, т.е. матрицами."
      ]
    },
    {
      "cell_type": "code",
      "metadata": {
        "id": "B4WAhqU39kWf",
        "colab_type": "code",
        "colab": {}
      },
      "source": [
        "pic = misc.face(gray=True)"
      ],
      "execution_count": 0,
      "outputs": []
    },
    {
      "cell_type": "code",
      "metadata": {
        "id": "AWuyI0k69kWh",
        "colab_type": "code",
        "colab": {}
      },
      "source": [
        "plt.imshow(#тут ваш код)"
      ],
      "execution_count": 0,
      "outputs": []
    },
    {
      "cell_type": "markdown",
      "metadata": {
        "id": "5wGZtJnX9kWk",
        "colab_type": "text"
      },
      "source": [
        "Выведите форму (shape) полученной картинки `pic`. Какие выводы можно сделать? Положите в `h`,`w` высоту и ширину картинки."
      ]
    },
    {
      "cell_type": "code",
      "metadata": {
        "id": "3vVanBzU9kWk",
        "colab_type": "code",
        "colab": {}
      },
      "source": [
        "print(#тут ваш код)\n",
        "h,w=#тут ваш код"
      ],
      "execution_count": 0,
      "outputs": []
    },
    {
      "cell_type": "markdown",
      "metadata": {
        "id": "xelx9Hxc9kWl",
        "colab_type": "text"
      },
      "source": [
        "Используя библиотеку `numpy`, отразите изображение по горизонтали. Выведите картинку.\n",
        "\n",
        "Подсказка: не забывайте, что изображения -- это просто двумерные массивы"
      ]
    },
    {
      "cell_type": "code",
      "metadata": {
        "id": "PuBAIYwW9kWn",
        "colab_type": "code",
        "colab": {}
      },
      "source": [
        "#тут ваш код"
      ],
      "execution_count": 0,
      "outputs": []
    },
    {
      "cell_type": "markdown",
      "metadata": {
        "id": "XExgeFAR9kWp",
        "colab_type": "text"
      },
      "source": [
        "Теперь давайте повысим контрастность -- для этого к каждому пикселю прибавим 50 единиц"
      ]
    },
    {
      "cell_type": "code",
      "metadata": {
        "id": "HqPiifvL9kWp",
        "colab_type": "code",
        "colab": {}
      },
      "source": [
        "#тут ваш код"
      ],
      "execution_count": 0,
      "outputs": []
    },
    {
      "cell_type": "code",
      "metadata": {
        "id": "8mjGfjTK9kWs",
        "colab_type": "code",
        "colab": {}
      },
      "source": [
        "plt.imshow(pic)"
      ],
      "execution_count": 0,
      "outputs": []
    },
    {
      "cell_type": "markdown",
      "metadata": {
        "id": "FPWOUsQH9kWu",
        "colab_type": "text"
      },
      "source": [
        "Теперь давайте попробуем превратить наше одноканальное изображение в трехканальный (RGB) тензор. Для этого вместо каждого пикселя в одноканальном изображении (в двумерном массиве) поставим кортеж из трех элементов -- глубины красного, зеленого и голубого соотвественно. Восстановить по ч/б картинке цветной мы не можем, так как мы не можем взять утерянную информацию из ниоткуда, но можем усилить черные и белые участки. Для этого давайте заполним все три канала одинаковыми значениями, деленными на что-то очень большое. Например $--$ на $200$.  То есть, например, если в пикселе `pic[i][j]` лежало значение **200**, то для нового изображения `new_pic` мы заполняем `new_pic[i][j]` кортежем из трех чисел `int(pic[i][j]/3)`. Функция `int` $--$ округление до целой части."
      ]
    },
    {
      "cell_type": "code",
      "metadata": {
        "id": "hEK9jRSf9kWv",
        "colab_type": "code",
        "colab": {}
      },
      "source": [
        "new_pic = np.zeros((h,w,3)) #создадим пустую матрицу, куда будем записывать значения\n",
        "for i in range(h):\n",
        "    for j in range(w):\n",
        "     #тут ваш код"
      ],
      "execution_count": 0,
      "outputs": []
    },
    {
      "cell_type": "code",
      "metadata": {
        "id": "_RUpiNo69kWx",
        "colab_type": "code",
        "colab": {}
      },
      "source": [
        "plt.imshow(#тут ваш код)"
      ],
      "execution_count": 0,
      "outputs": []
    },
    {
      "cell_type": "markdown",
      "metadata": {
        "id": "OVO189tU9kWz",
        "colab_type": "text"
      },
      "source": [
        "### Задание 3"
      ]
    },
    {
      "cell_type": "markdown",
      "metadata": {
        "id": "kacDftwY9kW0",
        "colab_type": "text"
      },
      "source": [
        "Теперь давайте уменьшим качество картинки в 16 раз, путем уменьшения качества изображения, т.е. теперь 16 пикселей по близости надо заполнить одним значением."
      ]
    },
    {
      "cell_type": "code",
      "metadata": {
        "id": "s21pa_tJ9kW0",
        "colab_type": "code",
        "colab": {}
      },
      "source": [
        "from sklearn.datasets import load_sample_image #импорт загрузчика изображения"
      ],
      "execution_count": 0,
      "outputs": []
    },
    {
      "cell_type": "code",
      "metadata": {
        "id": "yTt_fdLC9kW2",
        "colab_type": "code",
        "colab": {}
      },
      "source": [
        "china = load_sample_image('china.jpg')\n",
        "plt.imshow(china)"
      ],
      "execution_count": 0,
      "outputs": []
    },
    {
      "cell_type": "markdown",
      "metadata": {
        "id": "CV3st_wn9kW4",
        "colab_type": "text"
      },
      "source": [
        "Запишите в переменные `h`, `w`, `c` высоту, ширину, количество каналов соответственно для картинки `china`."
      ]
    },
    {
      "cell_type": "code",
      "metadata": {
        "id": "nJHwDMmv9kW4",
        "colab_type": "code",
        "colab": {}
      },
      "source": [
        "h, w, c = #тут ваш код"
      ],
      "execution_count": 0,
      "outputs": []
    },
    {
      "cell_type": "markdown",
      "metadata": {
        "id": "xu3xAGDu9kW5",
        "colab_type": "text"
      },
      "source": [
        "Теперь давайте непосредственно перейдем к изменению картинки $--$ мы предлагаем разбивать картинки на квадраты 4 на 4 и заполнять все 16 значений внутри квадрата левым верхним значением. Вы можете сделать иначе."
      ]
    },
    {
      "cell_type": "code",
      "metadata": {
        "id": "GisNhXFK9kW6",
        "colab_type": "code",
        "colab": {}
      },
      "source": [
        "from copy import copy\n",
        "compressed_pic = copy(china)\n",
        "#тут ваш код     "
      ],
      "execution_count": 0,
      "outputs": []
    },
    {
      "cell_type": "markdown",
      "metadata": {
        "id": "0Kzb067Y9kW8",
        "colab_type": "text"
      },
      "source": [
        "Напишите функцию, которая считает несоотвествие между исходной и сжатой картинкой. Запустите ваш код для `compressed_pic`, `china`"
      ]
    },
    {
      "cell_type": "code",
      "metadata": {
        "id": "39qh8JuZ9kW9",
        "colab_type": "code",
        "colab": {}
      },
      "source": [
        "def calculate_mismatch(a,b):\n",
        "    mismatch=0\n",
        "    #тут ваш код\n",
        "    print(mismatch)"
      ],
      "execution_count": 0,
      "outputs": []
    },
    {
      "cell_type": "code",
      "metadata": {
        "id": "kVYOFPMP9kW_",
        "colab_type": "code",
        "colab": {}
      },
      "source": [
        "calculate_mismatch(#тут ваш код)"
      ],
      "execution_count": 0,
      "outputs": []
    },
    {
      "cell_type": "markdown",
      "metadata": {
        "id": "SxQTJIGs9kXF",
        "colab_type": "text"
      },
      "source": [
        "Посчитайте синус от каждого значения пикселей изображения `china` по всем каналам. Выведите картинку. Используйте функцию `np.sin` "
      ]
    },
    {
      "cell_type": "code",
      "metadata": {
        "id": "UsXNJxLm9kXF",
        "colab_type": "code",
        "colab": {}
      },
      "source": [
        "#тут ваш код"
      ],
      "execution_count": 0,
      "outputs": []
    },
    {
      "cell_type": "code",
      "metadata": {
        "id": "v8K8YZ3-9kXH",
        "colab_type": "code",
        "colab": {}
      },
      "source": [
        "plt.imshow(#тут ваш код) "
      ],
      "execution_count": 0,
      "outputs": []
    },
    {
      "cell_type": "markdown",
      "metadata": {
        "id": "0oH0MRQL9kXJ",
        "colab_type": "text"
      },
      "source": [
        "Посмотрите на полученный результат. Как вы думаете, что можно делать с помощью такого преобразования? Какого рода объекты можно распознать?"
      ]
    },
    {
      "cell_type": "markdown",
      "metadata": {
        "id": "KNJq_gfL9kXN",
        "colab_type": "text"
      },
      "source": [
        "### Задание 4*"
      ]
    },
    {
      "cell_type": "markdown",
      "metadata": {
        "id": "4ht209199kXO",
        "colab_type": "text"
      },
      "source": [
        "Теперь давайте поработаем с аудиофайлами. Стандартный аудиофайл представляет собой обычный набор чисел, в котором хранятся значения частот, снятых с определенной периодичностью. Итак, самая простая аудиодорожка $-$ одномерный массив.\n",
        "\n",
        "Первое, что нужно сделать $--$ установить библиотеку для работы с аудио. Она называется `librosa`. Гайд по установке: https://librosa.github.io/librosa/install.html\n"
      ]
    },
    {
      "cell_type": "code",
      "metadata": {
        "id": "nwg7Hn349kXP",
        "colab_type": "code",
        "colab": {}
      },
      "source": [
        "import librosa #импортируем библиотеку\n",
        "import IPython.display"
      ],
      "execution_count": 0,
      "outputs": []
    },
    {
      "cell_type": "code",
      "metadata": {
        "id": "kbvx2c_L9kXQ",
        "colab_type": "code",
        "colab": {}
      },
      "source": [
        "audio, sr= librosa.load('Test.wav')  \n",
        "# записываем наш массив звуковых частот в файл аудио, sr -- число точек, записываемых в секунду. \n",
        "# чтобы файл открылся, он должен лежать в той же папке, что и файл HW_2.ipynb"
      ],
      "execution_count": 0,
      "outputs": []
    },
    {
      "cell_type": "markdown",
      "metadata": {
        "id": "w9Tipzz99kXS",
        "colab_type": "text"
      },
      "source": [
        "Нашу дорожку можно воспроизвести в самом файле `.ipynb`:"
      ]
    },
    {
      "cell_type": "code",
      "metadata": {
        "id": "T2Rr5zTX9kXT",
        "colab_type": "code",
        "colab": {}
      },
      "source": [
        "IPython.display.Audio(audio, rate=sr)"
      ],
      "execution_count": 0,
      "outputs": []
    },
    {
      "cell_type": "markdown",
      "metadata": {
        "id": "QPRjmIoZ9kXW",
        "colab_type": "text"
      },
      "source": [
        "Выведите тип данных переменной `audio`, найдите ее длительность и среднее."
      ]
    },
    {
      "cell_type": "code",
      "metadata": {
        "id": "ECc4dGk49kXW",
        "colab_type": "code",
        "colab": {}
      },
      "source": [
        "print(#тут ваш код)"
      ],
      "execution_count": 0,
      "outputs": []
    },
    {
      "cell_type": "markdown",
      "metadata": {
        "id": "574hvLOr9kXX",
        "colab_type": "text"
      },
      "source": [
        "    Давайте посмотрим, как выглядит наша дорожка. Для этого используем библиотеку `matplotlib.pyplot`"
      ]
    },
    {
      "cell_type": "code",
      "metadata": {
        "id": "uW5eBW5Q9kXY",
        "colab_type": "code",
        "colab": {}
      },
      "source": [
        "plt.figure(figsize=(25,5))\n",
        "plt.title('Test.wav')\n",
        "plt.plot(audio)"
      ],
      "execution_count": 0,
      "outputs": []
    },
    {
      "cell_type": "markdown",
      "metadata": {
        "id": "uMboMRu89kXZ",
        "colab_type": "text"
      },
      "source": [
        "Обрежьте последние 4 секунды файла"
      ]
    },
    {
      "cell_type": "code",
      "metadata": {
        "id": "4CcwvAnb9kXb",
        "colab_type": "code",
        "colab": {}
      },
      "source": [
        "audio = #тут ваш код"
      ],
      "execution_count": 0,
      "outputs": []
    },
    {
      "cell_type": "markdown",
      "metadata": {
        "id": "NQTEVqad9kXd",
        "colab_type": "text"
      },
      "source": [
        "Давайте уменьшим амплитуду на 25%. Что при этом изменится? Напоминаю, что вы всегда можете послушать изменения при помощи `IPython.display.Audio`"
      ]
    },
    {
      "cell_type": "code",
      "metadata": {
        "id": "aYkN5Tbe9kXd",
        "colab_type": "code",
        "colab": {}
      },
      "source": [
        "audio = #тут ваш код"
      ],
      "execution_count": 0,
      "outputs": []
    },
    {
      "cell_type": "markdown",
      "metadata": {
        "id": "0mEQkKbc9kXf",
        "colab_type": "text"
      },
      "source": [
        "А еще аудиодорожку можно ускорить. Для этого попробуйте потюнить параметр `rate`"
      ]
    },
    {
      "cell_type": "code",
      "metadata": {
        "id": "kCIh5VqX9kXg",
        "colab_type": "code",
        "colab": {}
      },
      "source": [
        "IPython.display.Audio(audio, rate=sr)"
      ],
      "execution_count": 0,
      "outputs": []
    }
  ]
}